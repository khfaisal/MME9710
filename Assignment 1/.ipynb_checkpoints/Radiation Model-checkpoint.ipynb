{
 "cells": [
  {
   "cell_type": "code",
   "execution_count": null,
   "metadata": {},
   "outputs": [],
   "source": [
    "class RadiationModelExplicit:\n",
    "    \"\"\"Class defining a radiation model\"\"\"\n",
    "    \n",
    "    def __init__(self, grid, T, To, sigma, epsilon):\n",
    "        \"\"\"Constructor\"\"\"\n",
    "        self._grid = grid\n",
    "        self._T = T\n",
    "        self._To = To\n",
    "        self._sigma = sigma\n",
    "        self._epsilon = epsilon\n",
    "        \n",
    "    def add(self, coeffs):\n",
    "        \"\"\"Function to add surface convection terms to coefficient arrays\"\"\"\n",
    "        \n",
    "        # Calculate the source term\n",
    "        source = self._sigma*self._epsilon*((self._T[1:-1]*self._T[1:-1]*self._T[1:-1]*self._T[1:-1]) - (self._To*self._To*self._To*self._To))\n",
    "        \n",
    "        # Calculate the linearization coefficients\n",
    "        #coeffP = 0\n",
    "        \n",
    "        # Add to coefficient arrays\n",
    "        #coeffs.accumulate_aP(coeffP)\n",
    "        coeffs.accumulate_rP(source)\n",
    "        \n",
    "        return coeffs\n",
    "class RadiationModelImplicit:\n",
    "    \"\"\"Class defining a radiation model\"\"\"\n",
    "    \n",
    "    def __init__(self, grid, T, To, sigma, epsilon):\n",
    "        \"\"\"Constructor\"\"\"\n",
    "        self._grid = grid\n",
    "        self._T = T\n",
    "        self._To = To\n",
    "        self._sigma = sigma\n",
    "        self._epsilon = epsilon\n",
    "        \n",
    "    def add(self, coeffs):\n",
    "        \"\"\"Function to add surface convection terms to coefficient arrays\"\"\"\n",
    "        \n",
    "        # Calculate the source term\n",
    "        source = 4*self._sigma*self._epsilon*((self._T[1:-1]*self._T[1:-1]*self._T[1:-1]) - (self._To*self._To*self._To))\n",
    "        \n",
    "        # Calculate the linearization coefficients\n",
    "        coeffP = 4*self._sigma*self._epsilon\n",
    "        \n",
    "        # Add to coefficient arrays\n",
    "        coeffs.accumulate_aP(coeffP)\n",
    "        coeffs.accumulate_rP(source)\n",
    "        \n",
    "        return coeffs"
   ]
  }
 ],
 "metadata": {
  "kernelspec": {
   "display_name": "Python 3",
   "language": "python",
   "name": "python3"
  },
  "language_info": {
   "codemirror_mode": {
    "name": "ipython",
    "version": 3
   },
   "file_extension": ".py",
   "mimetype": "text/x-python",
   "name": "python",
   "nbconvert_exporter": "python",
   "pygments_lexer": "ipython3",
   "version": "3.6.5"
  }
 },
 "nbformat": 4,
 "nbformat_minor": 2
}
