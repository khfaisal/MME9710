{
 "cells": [
  {
   "cell_type": "code",
   "execution_count": null,
   "metadata": {},
   "outputs": [],
   "source": [
    "class RobinBc:\n",
    "\n",
    "    \"\"\"Class defining a Robin boundary condition\"\"\"\n",
    "    \n",
    "    def __init__(self, phi, grid, gradient, loc):\n",
    "        \"\"\"Constructor\n",
    "            phi ........ field variable array\n",
    "            grid ....... grid\n",
    "            gradient ... gradient at cell adjacent to boundary\n",
    "            loc ........ boundary location\n",
    "        \"\"\"\n",
    "        self._phi = phi\n",
    "        self._grid = grid\n",
    "        self._gradient = gradient\n",
    "        self._loc = loc\n",
    "        \n",
    "    def value(self):\n",
    "        \"\"\"Return the boundary condition value\"\"\"\n",
    "        if self._loc is BoundaryLocation.WEST:\n",
    "            return ((self._phi[1] + self._grid.dx_WP[0]*self._gradient* 50)/(1 + self._grid.dx_WP[0]*self._gradient))\n",
    "        elif self._loc is BoundaryLocation.EAST:\n",
    "            return ((self._phi[-2] - self._grid.dx_WP[-1]*self._gradient* 40)/(1 - self._grid.dx_WP[-1]*self._gradient))\n",
    "        else:\n",
    "            raise ValueError(\"Unknown boundary location\")\n",
    "    \n",
    "    def coeff(self):\n",
    "        \"\"\"Return the linearization coefficient\"\"\"\n",
    "        return 1 + self._grid.dx_WP[0]*self._gradient\n",
    "        return \n",
    "    def apply(self):\n",
    "        \"\"\"Applies the boundary condition in the referenced field variable array\"\"\"\n",
    "        if self._loc is BoundaryLocation.WEST:\n",
    "            self._phi[0] = ((self._phi[1] + self._grid.dx_WP[0]*self._gradient* 50)/(1 + self._grid.dx_WP[0]*self._gradient))\n",
    "        elif self._loc is BoundaryLocation.EAST:\n",
    "            self._phi[-1] = ((self._phi[-2] - self._grid.dx_WP[-1]*self._gradient* 40)/(1 - self._grid.dx_WP[-1]*self._gradient))\n",
    "        else:\n",
    "            raise ValueError(\"Unknown boundary location\")"
   ]
  }
 ],
 "metadata": {
  "kernelspec": {
   "display_name": "Python 3",
   "language": "python",
   "name": "python3"
  },
  "language_info": {
   "codemirror_mode": {
    "name": "ipython",
    "version": 3
   },
   "file_extension": ".py",
   "mimetype": "text/x-python",
   "name": "python",
   "nbconvert_exporter": "python",
   "pygments_lexer": "ipython3",
   "version": "3.6.5"
  }
 },
 "nbformat": 4,
 "nbformat_minor": 2
}
