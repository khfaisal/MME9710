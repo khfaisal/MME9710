{
 "cells": [
  {
   "cell_type": "markdown",
   "metadata": {},
   "source": [
    "## Problem 2 - External Convection\n",
    "\n",
    "Consider the same geometry and properties as in problem 1, except use $h$ = 12 [W/m$^2\\cdot$K] for the exposed surfaces of the bar, and end temperatures of $T_1$ = $T_2$ = 100 [$^\\circ$C].  Assume the surrounding air to be at $T_{\\infty}$ = 25 [$^\\circ$C]. Obtain the solution for this problem and compare your solution to the analytical solution."
   ]
  },
  {
   "cell_type": "code",
   "execution_count": 845,
   "metadata": {},
   "outputs": [],
   "source": [
    "import numpy as np\n",
    "\n",
    "class Grid:\n",
    "    \"\"\"Class defining a one-dimensional Cartesian grid\"\"\"\n",
    "    \n",
    "    def __init__(self, lx, ly, lz, ncv):\n",
    "        \"\"\"Constructor\n",
    "            lx .... total length of domain in x-direction [m]\n",
    "            ly .... total length of domain in y-direction [m]\n",
    "            lz .... total length of domain in z-direction [m]\n",
    "            ncv ... number of control volumes in domain\n",
    "        \"\"\"\n",
    "        # Store the number of control volumes\n",
    "        self._ncv = ncv\n",
    "        \n",
    "        # Calculate the control volume length\n",
    "        dx = lx/float(ncv)\n",
    "        \n",
    "        # Calculate the face locations\n",
    "        self._xf = np.array([i*dx for i in range(ncv+1)])\n",
    "        \n",
    "        # Calculate the cell centroid locations\n",
    "        self._xP = np.array([self._xf[0]] + \n",
    "                            [0.5*(self._xf[i]+self._xf[i+1]) for i in range(ncv)] +\n",
    "                            [self._xf[-1]])\n",
    "        \n",
    "        # Calculate face areas\n",
    "        self._Af = ly*lz*np.ones(ncv+1)\n",
    "        \n",
    "        # Calculate the outer surface area for each cell\n",
    "        self._Ao = (2.0*dx*ly + 2.0*dx*lz)*np.ones(ncv)\n",
    "        \n",
    "        # Calculate cell volumes\n",
    "        self._vol = dx*ly*lz*np.ones(ncv)\n",
    "        \n",
    "    @property\n",
    "    def ncv(self):\n",
    "        \"\"\"Number of control volumes in domain\"\"\"\n",
    "        return self._ncv\n",
    "    \n",
    "    @property\n",
    "    def xf(self):\n",
    "        \"\"\"Face location array\"\"\"\n",
    "        return self._xf\n",
    "    \n",
    "    @property\n",
    "    def xP(self):\n",
    "        \"\"\"Cell centroid array\"\"\"\n",
    "        return self._xP\n",
    "    \n",
    "    @property\n",
    "    def dx_WP(self):\n",
    "        return self.xP[1:-1]-self.xP[0:-2]\n",
    "        \n",
    "    @property\n",
    "    def dx_PE(self):\n",
    "        return self.xP[2:]-self.xP[1:-1]\n",
    "      \n",
    "    @property\n",
    "    def Af(self):\n",
    "        \"\"\"Face area array\"\"\"\n",
    "        return self._Af\n",
    "\n",
    "    @property\n",
    "    def Aw(self):\n",
    "        \"\"\"West face area array\"\"\"\n",
    "        return self._Af[0:-1]\n",
    "    \n",
    "    @property\n",
    "    def Ae(self):\n",
    "        \"\"\"East face area array\"\"\"\n",
    "        return self._Af[1:]\n",
    "    \n",
    "    @property\n",
    "    def Ao(self):\n",
    "        \"\"\"Outer face area array\"\"\"\n",
    "        return self._Ao\n",
    "    \n",
    "    @property\n",
    "    def vol(self):\n",
    "        \"\"\"Cell volume array\"\"\"\n",
    "        return self._vol"
   ]
  },
  {
   "cell_type": "code",
   "execution_count": 846,
   "metadata": {},
   "outputs": [],
   "source": [
    "class ScalarCoeffs:\n",
    "    \"\"\"Class defining the set of coefficients for a finite-volume discretization\n",
    "       of a scalar partial differential equation.\n",
    "    \"\"\"\n",
    "    \n",
    "    def __init__(self, ncv):\n",
    "        \"\"\"Constructor\n",
    "            ncv ... number of control volumes in domain\n",
    "        \"\"\"\n",
    "        self._ncv = ncv\n",
    "        self._aP = np.zeros(ncv)\n",
    "        self._aW = np.zeros(ncv)\n",
    "        self._aE = np.zeros(ncv)\n",
    "        self._rP = np.zeros(ncv)\n",
    "        \n",
    "    def zero(self):\n",
    "        \"\"\"Function to zero the coefficient arrays\"\"\"\n",
    "        self._aP.fill(0.0)\n",
    "        self._aW.fill(0.0)\n",
    "        self._aE.fill(0.0)\n",
    "        self._rP.fill(0.0)\n",
    "        \n",
    "    def accumulate_aP(self, aP):\n",
    "        \"\"\"Function to accumulate values onto aP\"\"\"\n",
    "        self._aP += aP\n",
    "        \n",
    "    def accumulate_aW(self, aW):\n",
    "        \"\"\"Function to accumulate values onto aW\"\"\"\n",
    "        self._aW += aW\n",
    "\n",
    "    def accumulate_aE(self, aE):\n",
    "        \"\"\"Function to accumulate values onto aE\"\"\"\n",
    "        self._aE += aE\n",
    "        \n",
    "    def accumulate_rP(self, rP):\n",
    "        \"\"\"Function to accumulate values onto rP\"\"\"\n",
    "        self._rP += rP\n",
    "        \n",
    "    @property\n",
    "    def ncv(self):\n",
    "        \"\"\"Number of control volumes in domain\"\"\"\n",
    "        return self._ncv\n",
    "        \n",
    "    @property\n",
    "    def aP(self):\n",
    "        \"\"\"Cell coefficient\"\"\"\n",
    "        return self._aP\n",
    "    \n",
    "    @property\n",
    "    def aW(self):\n",
    "        \"\"\"West cell coefficient\"\"\"\n",
    "        return self._aW\n",
    "    \n",
    "    @property\n",
    "    def aE(self):\n",
    "        \"\"\"East cell coefficient\"\"\"\n",
    "        return self._aE\n",
    "    \n",
    "    @property\n",
    "    def rP(self):\n",
    "        \"\"\"Cell residual\"\"\"\n",
    "        return self._rP\n"
   ]
  },
  {
   "cell_type": "code",
   "execution_count": 847,
   "metadata": {},
   "outputs": [],
   "source": [
    "from enum import Enum\n",
    "class BoundaryLocation(Enum):\n",
    "    \"\"\"Enumeration class defining boundary condition locations\"\"\"\n",
    "    WEST = 1\n",
    "    EAST = 2"
   ]
  },
  {
   "cell_type": "code",
   "execution_count": 848,
   "metadata": {},
   "outputs": [],
   "source": [
    "class DirichletBc:\n",
    "    \"\"\"Class defining a Dirichlet boundary condition\"\"\"\n",
    "    \n",
    "    def __init__(self, phi, grid, value, loc):\n",
    "        \"\"\"Constructor\n",
    "            phi ..... field variable array\n",
    "            grid .... grid\n",
    "            value ... boundary value\n",
    "            loc ..... boundary location\n",
    "        \"\"\"\n",
    "        self._phi = phi\n",
    "        self._grid = grid\n",
    "        self._value = value\n",
    "        self._loc = loc\n",
    "        \n",
    "    def value(self):\n",
    "        \"\"\"Return the boundary condition value\"\"\"\n",
    "        return self._value\n",
    "    \n",
    "    def coeff(self):\n",
    "        \"\"\"Return the linearization coefficient\"\"\"\n",
    "        return 0\n",
    "    \n",
    "    def apply(self):\n",
    "        \"\"\"Applies the boundary condition in the referenced field variable array\"\"\"\n",
    "        if self._loc is BoundaryLocation.WEST:\n",
    "            self._phi[0] = self._value\n",
    "        elif self._loc is BoundaryLocation.EAST:\n",
    "            self._phi[-1] = self._value\n",
    "        else:\n",
    "            raise ValueError(\"Unknown boundary location\")"
   ]
  },
  {
   "cell_type": "code",
   "execution_count": 849,
   "metadata": {},
   "outputs": [],
   "source": [
    "class DiffusionModel:\n",
    "    \"\"\"Class defining a diffusion model\"\"\"\n",
    "    \n",
    "    def __init__(self, grid, phi, gamma, west_bc, east_bc):\n",
    "        \"\"\"Constructor\"\"\"\n",
    "        self._grid = grid\n",
    "        self._phi = phi\n",
    "        self._gamma = gamma\n",
    "        self._west_bc = west_bc\n",
    "        self._east_bc = east_bc\n",
    "        \n",
    "    def add(self, coeffs):\n",
    "        \"\"\"Function to add diffusion terms to coefficient arrays\"\"\"\n",
    "        \n",
    "        # Calculate the west and east face diffusion flux terms for each face\n",
    "        flux_w = - self._gamma*self._grid.Aw*(self._phi[1:-1]-self._phi[0:-2])/self._grid.dx_WP\n",
    "        flux_e = - self._gamma*self._grid.Ae*(self._phi[2:]-self._phi[1:-1])/self._grid.dx_PE\n",
    "        \n",
    "        # Calculate the linearization coefficients\n",
    "        coeffW = - self._gamma*self._grid.Aw/self._grid.dx_WP\n",
    "        coeffE = - self._gamma*self._grid.Ae/self._grid.dx_PE\n",
    "        coeffP = - coeffW - coeffE\n",
    "        \n",
    "        # Modify the linearization coefficients on the boundaries\n",
    "        coeffP[0] += coeffW[0]*self._west_bc.coeff()\n",
    "        coeffP[-1] += coeffE[-1]*self._east_bc.coeff()\n",
    "        \n",
    "        # Zero the boundary coefficients that are not used\n",
    "        coeffW[0] = 0.0\n",
    "        coeffE[-1] = 0.0\n",
    "        \n",
    "        # Calculate the net flux from each cell\n",
    "        flux = flux_e - flux_w\n",
    "        \n",
    "        # Add to coefficient arrays\n",
    "        coeffs.accumulate_aP(coeffP)\n",
    "        coeffs.accumulate_aW(coeffW)\n",
    "        coeffs.accumulate_aE(coeffE)\n",
    "        coeffs.accumulate_rP(flux)\n",
    "        \n",
    "        # Return the modified coefficient array\n",
    "        return coeffs"
   ]
  },
  {
   "cell_type": "code",
   "execution_count": 850,
   "metadata": {},
   "outputs": [],
   "source": [
    "class SurfaceConvectionModel:\n",
    "    \"\"\"Class defining a surface convection model\"\"\"\n",
    "    \n",
    "    def __init__(self, grid, T, ho, To):\n",
    "        \"\"\"Constructor\"\"\"\n",
    "        self._grid = grid\n",
    "        self._T = T\n",
    "        self._ho = ho\n",
    "        self._To = To\n",
    "        \n",
    "    def add(self, coeffs):\n",
    "        \"\"\"Function to add surface convection terms to coefficient arrays\"\"\"\n",
    "        \n",
    "        # Calculate the source term\n",
    "        source = self._ho*self._grid.Ao*(self._T[1:-1] - self._To)\n",
    "        \n",
    "        # Calculate the linearization coefficients\n",
    "        coeffP = self._ho*self._grid.Ao\n",
    "        \n",
    "        # Add to coefficient arrays\n",
    "        coeffs.accumulate_aP(coeffP)\n",
    "        coeffs.accumulate_rP(source)\n",
    "        \n",
    "        return coeffs"
   ]
  },
  {
   "cell_type": "code",
   "execution_count": 851,
   "metadata": {},
   "outputs": [],
   "source": [
    "from scipy.sparse.linalg import spsolve\n",
    "from scipy.sparse import csr_matrix\n",
    "\n",
    "def get_sparse_matrix(coeffs):\n",
    "    \"\"\"Function to return a sparse matrix representation of a set of scalar coefficients\"\"\"\n",
    "    ncv = coeffs.ncv\n",
    "    data = np.zeros(3*ncv-2)\n",
    "    rows = np.zeros(3*ncv-2, dtype=int)\n",
    "    cols = np.zeros(3*ncv-2, dtype=int)\n",
    "    data[0] = coeffs.aP[0]\n",
    "    data[1] = coeffs.aE[0]\n",
    "    rows[0] = 0\n",
    "    cols[0] = 0\n",
    "    rows[1] = 0\n",
    "    cols[1] = 1\n",
    "    for i in range(ncv-2):\n",
    "        data[3*i+2] = coeffs.aW[i+1]\n",
    "        data[3*i+3] = coeffs.aP[i+1]\n",
    "        data[3*i+4] = coeffs.aE[i+1]\n",
    "        rows[3*i+2:3*i+5] = i+1\n",
    "        cols[3*i+2] = i\n",
    "        cols[3*i+3] = i+1\n",
    "        cols[3*i+4] = i+2\n",
    "    data[3*ncv-4] = coeffs.aW[-1]\n",
    "    data[3*ncv-3] = coeffs.aP[-1]\n",
    "    rows[3*ncv-4:3*ncv-2] = ncv-1\n",
    "    cols[3*ncv-4] = ncv-2\n",
    "    cols[3*ncv-3] = ncv-1\n",
    "    return csr_matrix((data, (rows, cols)))"
   ]
  },
  {
   "cell_type": "code",
   "execution_count": 852,
   "metadata": {},
   "outputs": [],
   "source": [
    "def solve(coeffs):\n",
    "    \"\"\"Function to solve the linear system and return the correction field\"\"\"\n",
    "    # Get the sparse matrix\n",
    "    A = get_sparse_matrix(coeffs)\n",
    "    # Solve the linear system\n",
    "    return spsolve(A, -coeffs.rP)"
   ]
  },
  {
   "cell_type": "markdown",
   "metadata": {},
   "source": [
    "# Determination of Required Number of Iterations for Convergence"
   ]
  },
  {
   "cell_type": "markdown",
   "metadata": {},
   "source": [
    "# Convergence Criteria 1e-6"
   ]
  },
  {
   "cell_type": "code",
   "execution_count": 853,
   "metadata": {},
   "outputs": [],
   "source": [
    "def problem2(ncv):   \n",
    "    import numpy as np\n",
    "    from numpy.linalg import norm\n",
    "\n",
    "    # Define the grid\n",
    "    #lx = 0.1\n",
    "    #ly = 0.005\n",
    "    #lz = 0.005\n",
    "    #ncv = 10\n",
    "    #grid = Grid(lx, ly, lz, ncv)\n",
    "\n",
    "    # Set the maximum number of iterations and convergence criterion\n",
    "    maxIter = 100\n",
    "    converged = 1e-6\n",
    "\n",
    "    # Define thermophysical properties\n",
    "    k = 60\n",
    "\n",
    "    # Define convection parameters\n",
    "    ho = 12\n",
    "    To = 25\n",
    "\n",
    "    # Define the coefficients\n",
    "    coeffs = ScalarCoeffs(grid.ncv)\n",
    "\n",
    "    # Initial conditions\n",
    "    T0 = 300\n",
    "\n",
    "    # Initialize field variable arrays\n",
    "    T = T0*np.ones(grid.ncv+2)\n",
    "\n",
    "    # Define boundary conditions\n",
    "    west_bc = DirichletBc(T, grid, 100, BoundaryLocation.WEST)\n",
    "    east_bc = DirichletBc(T, grid, 100, BoundaryLocation.EAST)\n",
    "\n",
    "    # Apply boundary conditions\n",
    "    west_bc.apply()\n",
    "    east_bc.apply()\n",
    "\n",
    "    # Create list to store the solutions at each iteration\n",
    "    T_solns = [np.copy(T)]\n",
    "\n",
    "    # Define the diffusion model\n",
    "    diffusion = DiffusionModel(grid, T, k, west_bc, east_bc)\n",
    "\n",
    "    # Define the surface convection model\n",
    "    surfaceConvection = SurfaceConvectionModel(grid, T, ho, To)\n",
    "\n",
    "    # Iterate until the solution is converged\n",
    "    for i in range(maxIter):\n",
    "        # Zero the coefficients and add each influence\n",
    "        coeffs.zero()\n",
    "        coeffs = diffusion.add(coeffs)\n",
    "        coeffs = surfaceConvection.add(coeffs)\n",
    "\n",
    "        # Compute residual and check for convergence \n",
    "        maxResid = norm(coeffs.rP, np.inf)\n",
    "        avgResid = np.mean(np.absolute(coeffs.rP))\n",
    "        print(\"Iteration = {}; Max. Resid. = {}; Avg. Resid. = {}\".format(i, maxResid, avgResid))\n",
    "        if maxResid < converged:\n",
    "            break\n",
    "\n",
    "        # Solve the sparse matrix system\n",
    "        dT = solve(coeffs)\n",
    "\n",
    "        # Update the solution and boundary conditions\n",
    "        T[1:-1] += dT\n",
    "        west_bc.apply()\n",
    "        east_bc.apply()\n",
    "\n",
    "        # Store the solution\n",
    "        #T_solns.append(np.copy(T))\n",
    "    return T "
   ]
  },
  {
   "cell_type": "code",
   "execution_count": 854,
   "metadata": {},
   "outputs": [
    {
     "name": "stdout",
     "output_type": "stream",
     "text": [
      "Iteration = 0; Max. Resid. = 60.66; Avg. Resid. = 12.659999999999993\n",
      "Iteration = 1; Max. Resid. = 6.744604874597826e-15; Avg. Resid. = 2.9476421303797907e-15\n",
      "Iteration = 0; Max. Resid. = 84.47142857142856; Avg. Resid. = 12.47142857142857\n",
      "Iteration = 1; Max. Resid. = 1.7208456881689926e-14; Avg. Resid. = 5.428197573970855e-15\n"
     ]
    }
   ],
   "source": [
    "%matplotlib inline\n",
    "import matplotlib.pyplot as plt\n",
    "import numpy as np\n",
    "lx = 0.1\n",
    "ly = 0.005\n",
    "lz = 0.005\n",
    "xPosition=[]\n",
    "Temp=[]\n",
    "\n",
    "for i in range(2):\n",
    "    ncv= 4*i + 10\n",
    "    grid = Grid(lx, ly, lz, ncv)\n",
    "    xPosition.append(grid.xP)\n",
    "    Temp.append(problem2(ncv))"
   ]
  },
  {
   "cell_type": "markdown",
   "metadata": {},
   "source": [
    "# Convergence Criteria 1e-8"
   ]
  },
  {
   "cell_type": "code",
   "execution_count": 855,
   "metadata": {},
   "outputs": [],
   "source": [
    "def problem2(ncv):   \n",
    "    import numpy as np\n",
    "    from numpy.linalg import norm\n",
    "\n",
    "    # Define the grid\n",
    "    #lx = 0.1\n",
    "    #ly = 0.005\n",
    "    #lz = 0.005\n",
    "    #ncv = 10\n",
    "    #grid = Grid(lx, ly, lz, ncv)\n",
    "\n",
    "    # Set the maximum number of iterations and convergence criterion\n",
    "    maxIter = 100\n",
    "    converged = 1e-6\n",
    "\n",
    "    # Define thermophysical properties\n",
    "    k = 60\n",
    "\n",
    "    # Define convection parameters\n",
    "    ho = 12\n",
    "    To = 25\n",
    "\n",
    "    # Define the coefficients\n",
    "    coeffs = ScalarCoeffs(grid.ncv)\n",
    "\n",
    "    # Initial conditions\n",
    "    T0 = 300\n",
    "\n",
    "    # Initialize field variable arrays\n",
    "    T = T0*np.ones(grid.ncv+2)\n",
    "\n",
    "    # Define boundary conditions\n",
    "    west_bc = DirichletBc(T, grid, 100, BoundaryLocation.WEST)\n",
    "    east_bc = DirichletBc(T, grid, 100, BoundaryLocation.EAST)\n",
    "\n",
    "    # Apply boundary conditions\n",
    "    west_bc.apply()\n",
    "    east_bc.apply()\n",
    "\n",
    "    # Create list to store the solutions at each iteration\n",
    "    T_solns = [np.copy(T)]\n",
    "\n",
    "    # Define the diffusion model\n",
    "    diffusion = DiffusionModel(grid, T, k, west_bc, east_bc)\n",
    "\n",
    "    # Define the surface convection model\n",
    "    surfaceConvection = SurfaceConvectionModel(grid, T, ho, To)\n",
    "\n",
    "    # Iterate until the solution is converged\n",
    "    for i in range(maxIter):\n",
    "        # Zero the coefficients and add each influence\n",
    "        coeffs.zero()\n",
    "        coeffs = diffusion.add(coeffs)\n",
    "        coeffs = surfaceConvection.add(coeffs)\n",
    "\n",
    "        # Compute residual and check for convergence \n",
    "        maxResid = norm(coeffs.rP, np.inf)\n",
    "        avgResid = np.mean(np.absolute(coeffs.rP))\n",
    "        print(\"Iteration = {}; Max. Resid. = {}; Avg. Resid. = {}\".format(i, maxResid, avgResid))\n",
    "        if maxResid < converged:\n",
    "            break\n",
    "\n",
    "        # Solve the sparse matrix system\n",
    "        dT = solve(coeffs)\n",
    "\n",
    "        # Update the solution and boundary conditions\n",
    "        T[1:-1] += dT\n",
    "        west_bc.apply()\n",
    "        east_bc.apply()\n",
    "\n",
    "        # Store the solution\n",
    "        #T_solns.append(np.copy(T))\n",
    "    return T "
   ]
  },
  {
   "cell_type": "code",
   "execution_count": 856,
   "metadata": {},
   "outputs": [
    {
     "name": "stdout",
     "output_type": "stream",
     "text": [
      "Iteration = 0; Max. Resid. = 60.66; Avg. Resid. = 12.659999999999993\n",
      "Iteration = 1; Max. Resid. = 6.744604874597826e-15; Avg. Resid. = 2.9476421303797907e-15\n",
      "Iteration = 0; Max. Resid. = 84.47142857142856; Avg. Resid. = 12.47142857142857\n",
      "Iteration = 1; Max. Resid. = 1.7208456881689926e-14; Avg. Resid. = 5.428197573970855e-15\n"
     ]
    }
   ],
   "source": [
    "%matplotlib inline\n",
    "import matplotlib.pyplot as plt\n",
    "import numpy as np\n",
    "lx = 0.1\n",
    "ly = 0.005\n",
    "lz = 0.005\n",
    "xPosition=[]\n",
    "Temp=[]\n",
    "\n",
    "for i in range(2):\n",
    "    ncv= 4*i + 10\n",
    "    grid = Grid(lx, ly, lz, ncv)\n",
    "    xPosition.append(grid.xP)\n",
    "    Temp.append(problem2(ncv))"
   ]
  },
  {
   "cell_type": "markdown",
   "metadata": {},
   "source": [
    "# Discussion on Determination of Required Number of Iterations for Convergence\n",
    "Required number of iterations for convergence have been determined. To do this, two convergence criteria were taken into consideration and these are 1e-6, 1e-8. After running the code for the above-mentioned convergence criteria, it was observed that:\n",
    "\n",
    "### At convergence criteria 1e-6: \n",
    "Convergence takes place after 2 iterations (from 0 to 1). And it happened for both number of control volumes (i.e., ncv = 6 & ncv = 10)\n",
    "\n",
    "### At convergence criteria 1e-8: \n",
    "Convergence takes place after 2 iterations (from 0 to 1). And it happened for both number of control volumes (i.e., ncv = 6 & ncv = 10)\n",
    "\n",
    "### Conclusion: \n",
    "As for both consecutive convergence criteria i.e., 1e-6 and 1e-8, 2 iterations (from 0 to 1) were enough for convergence to take place for both 6 and 10 control volumes, so required number of iterations for steel is determined to be 2.\n",
    "\n",
    "### Explanation:\n",
    "One of the most vital procedures of an iterative solution’s convergence is measuring the residual. Residual straight away enumerates the error in the solution of the system of equations. In Computational Fluid Dynamics analysis, the residual quantifies the local imbalance of a conserved variable in each control volume. So, each cell in the model will have its individual residual value for each of the equations being solved. \n",
    "\n",
    "Exact zero can never be achieved in an iterative numerical solution. However, the lower the residual value is, the more numerically correct the solution.\n",
    "\n",
    "This residual value which is involved with the quantification of local imbalance of conserved cell, depends upon the source term. If the source term is either zero or a constant or very small, then the local imbalance of conserved cell is also very small hence negligible and as a result convergence takes place with very few number of iterations even 1 or 2.\n",
    "\n",
    "For this problem, the source term is very small. It is anticipated that, because of this reason, convergence took place very quickly.\n"
   ]
  },
  {
   "cell_type": "markdown",
   "metadata": {},
   "source": [
    "# Study of Grid Independence "
   ]
  },
  {
   "cell_type": "code",
   "execution_count": 857,
   "metadata": {},
   "outputs": [
    {
     "name": "stdout",
     "output_type": "stream",
     "text": [
      "[array([0.   , 0.005, 0.015, 0.025, 0.035, 0.045, 0.055, 0.065, 0.075,\n",
      "       0.085, 0.095, 0.1  ]), array([0.        , 0.00357143, 0.01071429, 0.01785714, 0.025     ,\n",
      "       0.03214286, 0.03928571, 0.04642857, 0.05357143, 0.06071429,\n",
      "       0.06785714, 0.075     , 0.08214286, 0.08928571, 0.09642857,\n",
      "       0.1       ])]\n",
      "[array([100.        ,  97.35157942,  93.21236352,  90.16454544,\n",
      "        88.15936009,  87.16472449,  87.16472449,  88.15936009,\n",
      "        90.16454544,  93.21236352,  97.35157942, 100.        ]), array([100.        ,  98.1059437 ,  94.91461433,  92.29401649,\n",
      "        90.22275757,  88.68392932,  87.66496988,  87.15756122,\n",
      "        87.15756122,  87.66496988,  88.68392932,  90.22275757,\n",
      "        92.29401649,  94.91461433,  98.1059437 , 100.        ])]\n"
     ]
    }
   ],
   "source": [
    "import numpy as np\n",
    "print(xPosition)\n",
    "print(Temp)"
   ]
  },
  {
   "cell_type": "code",
   "execution_count": 858,
   "metadata": {},
   "outputs": [
    {
     "data": {
      "image/png": "[encoded data removed]",
      "text/plain": [
       "<Figure size 432x288 with 1 Axes>"
      ]
     },
     "metadata": {},
     "output_type": "display_data"
    }
   ],
   "source": [
    "%matplotlib inline\n",
    "import matplotlib.pyplot as plt\n",
    "\n",
    "i = 0\n",
    "for x, T in zip(xPosition, Temp):\n",
    "    plt.plot(x, T, '*', label=str(len(xPosition[i])))\n",
    "    i += 1\n",
    "\n",
    "plt.xlabel(\"x\")\n",
    "plt.ylabel(\"T\")\n",
    "plt.legend()\n",
    "plt.show()"
   ]
  },
  {
   "cell_type": "code",
   "execution_count": 859,
   "metadata": {},
   "outputs": [
    {
     "data": {
      "image/png": "[encoded data removed]",
      "text/plain": [
       "<Figure size 432x288 with 1 Axes>"
      ]
     },
     "metadata": {},
     "output_type": "display_data"
    }
   ],
   "source": [
    "%matplotlib inline\n",
    "import matplotlib.pyplot as plt\n",
    "\n",
    "i = 0\n",
    "for x, T in zip(xPosition, Temp):\n",
    "    plt.plot(x, T, '-', label=str(len(xPosition[i])))\n",
    "    i += 1\n",
    "\n",
    "plt.xlabel(\"x\")\n",
    "plt.ylabel(\"T\")\n",
    "plt.legend()\n",
    "plt.show()"
   ]
  },
  {
   "cell_type": "markdown",
   "metadata": {},
   "source": [
    "# Discussion on the Study of Grid Independence \n",
    "Even though above two graphs represent the same result, but they are presented in different ways. From the first graph, it is reliable that it represents the data for both 10 and 14 control volumes. The second graph also represents data for both 10 and 14 control volumes but as they have overlapped each other so it is difficult to differentiate from each other. From this, it can be concluded that 10 control volumes are enough to obtain a grid independent solution.\n"
   ]
  },
  {
   "cell_type": "markdown",
   "metadata": {},
   "source": [
    "# Analytical Solution"
   ]
  },
  {
   "cell_type": "markdown",
   "metadata": {},
   "source": [
    "## Equations Used"
   ]
  },
  {
   "cell_type": "markdown",
   "metadata": {},
   "source": [
    "The analytical solution for this problem is given by:\n",
    "\n",
    "$$\\frac{\\partial^2T}{\\partial x^2}=\\frac{hP}{kA_c}\\left(T_x-T_\\infty\\right)$$\n",
    "\n",
    "Then, by applying boundary conditions and solving the 2nd order equation, the following equation is obtained:  \n",
    "\n",
    "$$\\frac{\\theta_x}{\\theta_1}=\\frac{\\left(T_x-T_\\infty\\right)}{\\left(T_1-T_\\infty\\right)}=\\frac{\\left(T_2-T_\\infty\\right)/\\left(T_1-T_\\infty\\right)sinh\\ mx+sinh\\ m\\left(L-x\\right)}{sinh\\ mL}$$\n",
    "\n",
    "$$T_x=\\frac{\\left(T_2-T_\\infty\\right)sinh\\ mx+\\left(T_1-T_\\infty\\right)sinh\\ m\\left(L-x\\right)}{sinh\\ mL}+T_\\infty$$\n",
    "\n",
    "$$m^2=\\frac{hP}{kA_c}$$ Where p is the parameter and Ac is the bar (fin) crosssection area. \n",
    "\n",
    "The solution is hyperbolic equation which gives an idea about how the numerical solution might be.\n",
    "\n",
    "Reference: Bergman, T. L., & Incropera, F. P. (2011). Fundamentals of heat and mass transfer. John Wiley & Sons.\n"
   ]
  },
  {
   "cell_type": "markdown",
   "metadata": {},
   "source": [
    "## List of Values Considered"
   ]
  },
  {
   "cell_type": "markdown",
   "metadata": {},
   "source": [
    "Variables along with their values are given below\n",
    "\n",
    "\n",
    "Variable          | Valiue\n",
    ":----------:      | :------------------------: \n",
    "h                 | 12 [W/m$^2\\cdot$K]\n",
    "$T_{\\infty}$      | 25 [$^\\circ$C]\n",
    "$T_1$             | 100 [$^\\circ$C]\n",
    "$T_2$             | 100 [$^\\circ$C]\n",
    "L                 | 0.1 [m]\n",
    "W                 | 0.005 [m]\n",
    "P                 | 0.02 [m]\n",
    "$A_c$             | 0.000025 [m]\n",
    "k                 | 60 [W/m$\\cdot$K]"
   ]
  },
  {
   "cell_type": "markdown",
   "metadata": {},
   "source": [
    "## Calculation of m"
   ]
  },
  {
   "cell_type": "code",
   "execution_count": 860,
   "metadata": {},
   "outputs": [
    {
     "name": "stdout",
     "output_type": "stream",
     "text": [
      "After replacing the values into the equation of m, it gives: 12.649110640673518\n"
     ]
    }
   ],
   "source": [
    "m = ((12*0.02)/(60*0.000025))**0.5\n",
    "print('After replacing the values into the equation of m, it gives:',m)"
   ]
  },
  {
   "cell_type": "markdown",
   "metadata": {},
   "source": [
    "## Calculation of Analytical Temperature at various x position"
   ]
  },
  {
   "cell_type": "code",
   "execution_count": 861,
   "metadata": {},
   "outputs": [
    {
     "name": "stdout",
     "output_type": "stream",
     "text": [
      "Analytical values of T are given below\n",
      "---------------------------------------\n",
      "T at x = 0 is           100.0\n",
      "T at x = 0.005 is       97.49319622110761\n",
      "T at x = 0.015 is       93.34092713609284\n",
      "T at x = 0.025 is       90.28357160282458\n",
      "T at x = 0.035 is       88.27214667438992\n",
      "T at x = 0.045 is       87.27442661864336\n",
      "T at x = 0.055 is       87.27442661864336\n",
      "T at x = 0.065 is       88.27214667438992\n",
      "T at x = 0.075 is       90.28357160282458\n",
      "T at x = 0.085 is       93.34092713609284\n",
      "T at x = 0.095 is       97.49319622110761\n",
      "T at x = 0.1   is       100.0\n",
      "---------------------------------------\n"
     ]
    }
   ],
   "source": [
    "import numpy as np\n",
    "x= [0.   , 0.005, 0.015, 0.025, 0.035, 0.045, 0.055, 0.065, 0.075, 0.085, 0.095, 0.1  ]\n",
    "Tatx0 = ((100-25)*np.sinh(m*0) + (100-25)*np.sinh(m*(0.1-0))) /np.sinh(m*0.1) + 25\n",
    "Tatx1 = ((100-25)*np.sinh(m*0.005) + (100-25)*np.sinh(m*(0.1-0.005))) /np.sinh(m*0.1) + 25\n",
    "Tatx2 = ((100-25)*np.sinh(m*0.015) + (100-25)*np.sinh(m*(0.1-0.015))) /np.sinh(m*0.1) + 25\n",
    "Tatx3 = ((100-25)*np.sinh(m*0.025) + (100-25)*np.sinh(m*(0.1-0.025))) /np.sinh(m*0.1) + 25\n",
    "Tatx4 = ((100-25)*np.sinh(m*0.035) + (100-25)*np.sinh(m*(0.1-0.035))) /np.sinh(m*0.1) + 25\n",
    "Tatx5 = ((100-25)*np.sinh(m*0.045) + (100-25)*np.sinh(m*(0.1-0.045))) /np.sinh(m*0.1) + 25\n",
    "Tatx6 = ((100-25)*np.sinh(m*0.055) + (100-25)*np.sinh(m*(0.1-0.055))) /np.sinh(m*0.1) + 25\n",
    "Tatx7 = ((100-25)*np.sinh(m*0.065) + (100-25)*np.sinh(m*(0.1-0.065))) /np.sinh(m*0.1) + 25\n",
    "Tatx8 = ((100-25)*np.sinh(m*0.075) + (100-25)*np.sinh(m*(0.1-0.075))) /np.sinh(m*0.1) + 25\n",
    "Tatx9 = ((100-25)*np.sinh(m*0.085) + (100-25)*np.sinh(m*(0.1-0.085))) /np.sinh(m*0.1) + 25\n",
    "Tatx10 = ((100-25)*np.sinh(m*0.095) + (100-25)*np.sinh(m*(0.1-0.095))) /np.sinh(m*0.1) + 25\n",
    "Tatx11 = ((100-25)*np.sinh(m*0.1) + (100-25)*np.sinh(m*(0.1-0.1))) /np.sinh(m*0.1) + 25\n",
    "print ('Analytical values of T are given below')\n",
    "print ('---------------------------------------')\n",
    "print ('T at x = 0 is          ',(Tatx0))\n",
    "print ('T at x = 0.005 is      ',(Tatx1))\n",
    "print ('T at x = 0.015 is      ',(Tatx2))\n",
    "print ('T at x = 0.025 is      ',(Tatx3))\n",
    "print ('T at x = 0.035 is      ',(Tatx4))\n",
    "print ('T at x = 0.045 is      ',(Tatx5))\n",
    "print ('T at x = 0.055 is      ',(Tatx6))\n",
    "print ('T at x = 0.065 is      ',(Tatx7))\n",
    "print ('T at x = 0.075 is      ',(Tatx8))\n",
    "print ('T at x = 0.085 is      ',(Tatx9))\n",
    "print ('T at x = 0.095 is      ',(Tatx10))\n",
    "print ('T at x = 0.1   is      ',(Tatx11))\n",
    "print ('---------------------------------------')\n",
    "\n"
   ]
  },
  {
   "cell_type": "markdown",
   "metadata": {},
   "source": [
    "## Comparison between Analytical & Computational Results"
   ]
  },
  {
   "cell_type": "code",
   "execution_count": 862,
   "metadata": {},
   "outputs": [
    {
     "data": {
      "image/png": "[encoded data removed]",
      "text/plain": [
       "<Figure size 432x288 with 1 Axes>"
      ]
     },
     "metadata": {},
     "output_type": "display_data"
    }
   ],
   "source": [
    "%matplotlib inline\n",
    "import matplotlib.pyplot as plt\n",
    "x= [0.   , 0.005, 0.015, 0.025, 0.035, 0.045, 0.055, 0.065, 0.075, 0.085, 0.095, 0.1  ]\n",
    "Tcomputational = [100.0,  97.35157942,  93.21236352,  90.16454544,88.15936009,  87.16472449,  87.16472449,  88.15936009, 90.16454544,  93.21236352,  97.35157942, 100.0]\n",
    "Tanalytical    = [100.0,97.49319622110761,93.34092713609284,90.28357160282458,88.27214667438992,87.27442661864336,87.27442661864336,88.27214667438992,90.28357160282458,93.34092713609284,97.49319622110761,100.0  ]\n",
    "plt.plot(x, Tcomputational , '*', label='Tcomputational')\n",
    "plt.plot(x, Tanalytical,'-', label='Tanalytical')\n",
    "plt.xlabel(\"x\")\n",
    "plt.ylabel(\"T\")\n",
    "plt.legend()\n",
    "plt.show()"
   ]
  },
  {
   "cell_type": "markdown",
   "metadata": {},
   "source": [
    "Compuatational and analytical results are exactly matching with each other. Thus it confirms the accuracy of the computational result."
   ]
  },
  {
   "cell_type": "code",
   "execution_count": null,
   "metadata": {},
   "outputs": [],
   "source": []
  },
  {
   "cell_type": "code",
   "execution_count": null,
   "metadata": {},
   "outputs": [],
   "source": []
  }
 ],
 "metadata": {
  "kernelspec": {
   "display_name": "Python 3",
   "language": "python",
   "name": "python3"
  },
  "language_info": {
   "codemirror_mode": {
    "name": "ipython",
    "version": 3
   },
   "file_extension": ".py",
   "mimetype": "text/x-python",
   "name": "python",
   "nbconvert_exporter": "python",
   "pygments_lexer": "ipython3",
   "version": "3.6.5"
  }
 },
 "nbformat": 4,
 "nbformat_minor": 2
}
