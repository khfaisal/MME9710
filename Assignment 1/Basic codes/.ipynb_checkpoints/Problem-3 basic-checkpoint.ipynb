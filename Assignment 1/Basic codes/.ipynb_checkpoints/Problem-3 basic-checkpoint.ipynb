{
 "cells": [
  {
   "cell_type": "markdown",
   "metadata": {},
   "source": [
    "## Problem 3 - Internal Heat Generation\n",
    "\n",
    "A plane wall $L$ = 0.1 [m] thick with a thermal conductivity of $k$ = 26 [W/m$\\cdot$K] is exposed to an environment at an ambient temperature of 50 [$^\\circ$C] on one side and an environment of 40 [$^\\circ$C] on the other side. The convection coefficient at the exposed surfaces is estimated to be $h$ = 280 [W/m$^2\\cdot$K]. If heat is generated uniformly within the wall at a rate 50,000 [W/m$^3$], determine the surface temperatures of the walls, and the location and value of the maximum temperature inside the wall. Compare your result to the analytical result, which can be obtained from a heat transfer textbook."
   ]
  },
  {
   "cell_type": "markdown",
   "metadata": {},
   "source": [
    "A wall of infinite length with one side exposed to environment at a temperature of 40 oC and the other side is exposed to environment at a temperature of 50 oC. Heat is being generated internally in the wall at a uniform rate throughout the wall. Heat transfers form the wall to the exposed walls by conduction and to the ambient by convection. An element from the wall is taken into consideration and a zero gradient across the internal surfaces of this element is assumed. Hence, the only heat transfer considered is in the x-direction. "
   ]
  },
  {
   "cell_type": "markdown",
   "metadata": {},
   "source": [
    "## Class Defining a One-Dimensional Cartesian Grid\n",
    "\n",
    "\n",
    "In finite volume method, it is required to consider a grid on which the equations are discretized for solving any problem. Hence, it is required to define data structure to store the quantities related to grid. These are being used in computational code in addition to calculation of relevant grid parameters. For solving the problem stated above a simple one-dimensional Cartesian grid is taken into consideration.\n",
    "\n",
    "First to define a grid it is required to introduce class, which includes a method called ``__init__``. It  is commonly known as a *constructor*, as it helps to construct a new object.\n",
    "\n",
    "The class ``Grid`` takes four arguments, as shown below.\n",
    "\n",
    "Variable    | Description\n",
    ":----------:| :------------------------: \n",
    "`lx`        | total length of domain in x-direction [m]\n",
    "`ly`        | total length of domain in y-direction [m]\n",
    "`lz`        | total length of domain in z-direction [m]\n",
    "`ncv`       | number of control volumes in domain\n",
    "\n",
    "[Reference: Taken from the class lecture of Professor DeGroot]\n",
    "\n",
    "A list of the variables provided by this class is:\n",
    "\n",
    "Variable    | Description                                         | Array dimension\n",
    ":----------:| :--------------------------------------------------:|:---------------:\n",
    "`ncv`       | number of control volumes in domain                 | N/A\n",
    "`xf`        | array of x locations of face integration points [m] | `ncv+1`\n",
    "`xP`        | array of x locations of cell centroids [m]          | `ncv+2`\n",
    "`dx_WP`     | array of distances from W cell to P cell [m]        | `ncv`\n",
    "`dx_PE`     | array of distances from P cell to E cell [m]        | `ncv`\n",
    "`Af`        | array of face areas [m$^2$]                         | `ncv+1`\n",
    "`Aw`        | array of west face areas [m$^2$]                    | `ncv`\n",
    "`Ae`        | array of east areas [m$^2$]                         | `ncv`\n",
    "`Ao`        | array of outer surface areas [m$^2$]                | `ncv`\n",
    "`vol`       | array of cell volumes [m$^3$]                       | `ncv`\n",
    "\n",
    "[Reference:Taken from the class lecture of Professor DeGroot]\n",
    "\n",
    "\n",
    "Explanation of Array dimension\n",
    "\n",
    "`xf   `: generally arrays relating to face-based quantities have dimension `ncv+1` (as this includes the boundary faces)\n",
    "\n",
    "`Af   `: because of the same reason of previous variable it also has the same dimension i.e., `ncv+1` \n",
    "\n",
    "`xP`   : this array has dimension `ncv+2` to account for 'virual cells' located on the boundaries with zero thickness.\n",
    "\n",
    "Remaining all the variables in the list have dimension equal to `ncv` which is relizable from the basic understanding of grid structure.\n"
   ]
  },
  {
   "cell_type": "code",
   "execution_count": 808,
   "metadata": {},
   "outputs": [],
   "source": [
    "import numpy as np\n",
    "\n",
    "class Grid:\n",
    "    \"\"\"Class defining a one-dimensional Cartesian grid\"\"\"\n",
    "    \n",
    "    def __init__(self, lx, ly, lz, ncv):\n",
    "        \"\"\"Constructor\n",
    "            lx .... total length of domain in x-direction [m]\n",
    "            ly .... total length of domain in y-direction [m]\n",
    "            lz .... total length of domain in z-direction [m]\n",
    "            ncv ... number of control volumes in domain\n",
    "        \"\"\"\n",
    "        # Store the number of control volumes\n",
    "        self._ncv = ncv\n",
    "        \n",
    "        # Calculate the control volume length\n",
    "        dx = lx/float(ncv)\n",
    "        \n",
    "        # Calculate the face locations\n",
    "        self._xf = np.array([i*dx for i in range(ncv+1)])\n",
    "        \n",
    "        # Calculate the cell centroid locations\n",
    "        self._xP = np.array([self._xf[0]] + \n",
    "                            [0.5*(self._xf[i]+self._xf[i+1]) for i in range(ncv)] +\n",
    "                            [self._xf[-1]])\n",
    "        \n",
    "        # Calculate face areas\n",
    "        self._Af = ly*lz*np.ones(ncv+1)\n",
    "        \n",
    "        # Calculate the outer surface area for each cell\n",
    "        self._Ao = (2.0*dx*ly + 2.0*dx*lz)*np.ones(ncv)\n",
    "        \n",
    "        # Calculate cell volumes\n",
    "        self._vol = dx*ly*lz*np.ones(ncv)\n",
    "        \n",
    "    @property\n",
    "    def ncv(self):\n",
    "        \"\"\"Number of control volumes in domain\"\"\"\n",
    "        return self._ncv\n",
    "    \n",
    "    @property\n",
    "    def xf(self):\n",
    "        \"\"\"Face location array\"\"\"\n",
    "        return self._xf\n",
    "    \n",
    "    @property\n",
    "    def xP(self):\n",
    "        \"\"\"Cell centroid array\"\"\"\n",
    "        return self._xP\n",
    "    \n",
    "    @property\n",
    "    def dx_WP(self):\n",
    "        return self.xP[1:-1]-self.xP[0:-2]\n",
    "        \n",
    "    @property\n",
    "    def dx_PE(self):\n",
    "        return self.xP[2:]-self.xP[1:-1]\n",
    "      \n",
    "    @property\n",
    "    def Af(self):\n",
    "        \"\"\"Face area array\"\"\"\n",
    "        return self._Af\n",
    "\n",
    "    @property\n",
    "    def Aw(self):\n",
    "        \"\"\"West face area array\"\"\"\n",
    "        return self._Af[0:-1]\n",
    "    \n",
    "    @property\n",
    "    def Ae(self):\n",
    "        \"\"\"East face area array\"\"\"\n",
    "        return self._Af[1:]\n",
    "    \n",
    "    @property\n",
    "    def Ao(self):\n",
    "        \"\"\"Outer face area array\"\"\"\n",
    "        return self._Ao\n",
    "    \n",
    "    @property\n",
    "    def vol(self):\n",
    "        \"\"\"Cell volume array\"\"\"\n",
    "        return self._vol"
   ]
  },
  {
   "cell_type": "markdown",
   "metadata": {},
   "source": [
    "## Class Defining the Set of Coefficients\n",
    "\n",
    "To solve a linear system which is needed to be solved, it is good to define a class that can store the terms related to the linear system. Hence, in the following, a class is defined for the set of coefficients."
   ]
  },
  {
   "cell_type": "code",
   "execution_count": 809,
   "metadata": {},
   "outputs": [],
   "source": [
    "class ScalarCoeffs:\n",
    "    \"\"\"Class defining the set of coefficients for a finite-volume discretization\n",
    "       of a scalar partial differential equation.\n",
    "    \"\"\"\n",
    "    \n",
    "    def __init__(self, ncv):\n",
    "        \"\"\"Constructor\n",
    "            ncv ... number of control volumes in domain\n",
    "        \"\"\"\n",
    "        self._ncv = ncv\n",
    "        self._aP = np.zeros(ncv)\n",
    "        self._aW = np.zeros(ncv)\n",
    "        self._aE = np.zeros(ncv)\n",
    "        self._rP = np.zeros(ncv)\n",
    "        \n",
    "    def zero(self):\n",
    "        \"\"\"Function to zero the coefficient arrays\"\"\"\n",
    "        self._aP.fill(0.0)\n",
    "        self._aW.fill(0.0)\n",
    "        self._aE.fill(0.0)\n",
    "        self._rP.fill(0.0)\n",
    "        \n",
    "    def accumulate_aP(self, aP):\n",
    "        \"\"\"Function to accumulate values onto aP\"\"\"\n",
    "        self._aP += aP\n",
    "        \n",
    "    def accumulate_aW(self, aW):\n",
    "        \"\"\"Function to accumulate values onto aW\"\"\"\n",
    "        self._aW += aW\n",
    "\n",
    "    def accumulate_aE(self, aE):\n",
    "        \"\"\"Function to accumulate values onto aE\"\"\"\n",
    "        self._aE += aE\n",
    "        \n",
    "    def accumulate_rP(self, rP):\n",
    "        \"\"\"Function to accumulate values onto rP\"\"\"\n",
    "        self._rP += rP\n",
    "        \n",
    "    @property\n",
    "    def ncv(self):\n",
    "        \"\"\"Number of control volumes in domain\"\"\"\n",
    "        return self._ncv\n",
    "        \n",
    "    @property\n",
    "    def aP(self):\n",
    "        \"\"\"Cell coefficient\"\"\"\n",
    "        return self._aP\n",
    "    \n",
    "    @property\n",
    "    def aW(self):\n",
    "        \"\"\"West cell coefficient\"\"\"\n",
    "        return self._aW\n",
    "    \n",
    "    @property\n",
    "    def aE(self):\n",
    "        \"\"\"East cell coefficient\"\"\"\n",
    "        return self._aE\n",
    "    \n",
    "    @property\n",
    "    def rP(self):\n",
    "        \"\"\"Cell residual\"\"\"\n",
    "        return self._rP"
   ]
  },
  {
   "cell_type": "markdown",
   "metadata": {},
   "source": [
    "## Classes Defining the Boundary Conditions\n",
    "\n",
    "For solving any partial differential equation, boundary conditions are needed. There are generally three types of boundary conditions such as \"Dirichlet\", \"Neumann\", and \"Robin\". For, this problem \"Dirichlet\" boundary conditions will be required.\n",
    "\n",
    "### Enumeration Class Defining the Boundary Locations\n",
    "\n",
    "Now, a special kind of class, called an \"enumeration\" (abbreviated `Enum` in Python) will be introduced which helps make code more readable."
   ]
  },
  {
   "cell_type": "code",
   "execution_count": 810,
   "metadata": {},
   "outputs": [],
   "source": [
    "from enum import Enum\n",
    "\n",
    "class BoundaryLocation(Enum):\n",
    "    \"\"\"Enumeration class defining boundary condition locations\"\"\"\n",
    "    WEST = 1\n",
    "    EAST = 2"
   ]
  },
  {
   "cell_type": "markdown",
   "metadata": {},
   "source": [
    "### Implementation of the Boundary Conditions\n",
    "\n",
    "While defining classes that deals with applying boundary conditions, having a common interface can make a huge save in effort. In order to take that advantage, each of the member functions (as given below) will be implemented:\n",
    "\n",
    "- `value()`: gives the calculated boundary value.\n",
    "- `coeff()`: gives the linearization coefficient for the boundary value, which is equivalent to the derivative of the boundary value with respect to the adjacent cell value\n",
    "- `apply()`: implements the boundary value to the field variable array that is held as a reference within the class."
   ]
  },
  {
   "cell_type": "code",
   "execution_count": 811,
   "metadata": {},
   "outputs": [],
   "source": [
    "class RobinBc:\n",
    "    \"\"\"Class defining a Robin boundary condition\"\"\"\n",
    "    \n",
    "    def __init__(self, phi, grid, ho, k, loc):\n",
    "        \"\"\"Constructor\n",
    "            phi ........ field variable array\n",
    "            grid ....... grid\n",
    "            gradient ... gradient at cell adjacent to boundary\n",
    "            loc ........ boundary location\n",
    "        \"\"\"\n",
    "        self._phi = phi\n",
    "        self._grid = grid\n",
    "        self._ho = ho\n",
    "        self._k = k\n",
    "        self._loc = loc\n",
    "        \n",
    "    def value(self):\n",
    "        \"\"\"Return the boundary condition value\"\"\"\n",
    "        if self._loc is BoundaryLocation.WEST:\n",
    "            return (self._phi[1] + ((self._grid.dx_WP[0]*self._ho*40)/self._k))/(1+((self._grid.dx_WP[0]*self._ho)/self._k))\n",
    "        elif self._loc is BoundaryLocation.EAST:\n",
    "            return (self._phi[-2] + ((self._grid.dx_PE[-1]*self._ho*50)/self._k))/(1+((self._grid.dx_PE[-1]*self._ho)/self._k))\n",
    "        else:\n",
    "            raise ValueError(\"Unknown boundary location\")\n",
    "    \n",
    "    def coeff(self):\n",
    "        \"\"\"Return the linearization coefficient\"\"\"\n",
    "        if self._loc is BoundaryLocation.WEST:\n",
    "            return 1 / (1+((self._grid.dx_WP[0]*self._ho)/self._k))\n",
    "        elif self._loc is BoundaryLocation.EAST:\n",
    "            return 1 / (1+((self._grid.dx_PE[-1]*self._ho)/self._k))\n",
    "        else:\n",
    "            raise ValueError(\"Unknown boundary location\")\n",
    "            \n",
    "    def apply(self):\n",
    "        \"\"\"Applies the boundary condition in the referenced field variable array\"\"\"\n",
    "        if self._loc is BoundaryLocation.WEST:\n",
    "            self._phi[0] = (self._phi[1] + ((self._grid.dx_WP[0]*self._ho*40)/self._k))/(1+((self._grid.dx_WP[0]*self._ho)/self._k))\n",
    "        elif self._loc is BoundaryLocation.EAST:\n",
    "            self._phi[-1] = (self._phi[-2] + ((self._grid.dx_PE[-1]*self._ho*50)/self._k))/(1+((self._grid.dx_PE[-1]*self._ho)/self._k))\n",
    "        else:\n",
    "            raise ValueError(\"Unknown boundary location\")"
   ]
  },
  {
   "cell_type": "markdown",
   "metadata": {},
   "source": [
    "## Class Defining the Diffusion Model\n",
    "\n",
    "A class called `DiffusionModel` is defined which calculates the fluxes through the east and west faces for each of the control volume. It also calculates the linearization coefficients. These are stored in coefficient arrays and subsequently passed to the `add` method.\n"
   ]
  },
  {
   "cell_type": "code",
   "execution_count": 812,
   "metadata": {},
   "outputs": [],
   "source": [
    "class DiffusionModel:\n",
    "    \"\"\"Class defining a diffusion model\"\"\"\n",
    "    \n",
    "    def __init__(self, grid, phi, gamma, west_bc, east_bc):\n",
    "        \"\"\"Constructor\"\"\"\n",
    "        self._grid = grid\n",
    "        self._phi = phi\n",
    "        self._gamma = gamma\n",
    "        self._west_bc = west_bc\n",
    "        self._east_bc = east_bc\n",
    "        \n",
    "    def add(self, coeffs):\n",
    "        \"\"\"Function to add diffusion terms to coefficient arrays\"\"\"\n",
    "        \n",
    "        # Calculate the west and east face diffusion flux terms for each face\n",
    "        flux_w = - self._gamma*self._grid.Aw*(self._phi[1:-1]-self._phi[0:-2])/self._grid.dx_WP\n",
    "        flux_e = - self._gamma*self._grid.Ae*(self._phi[2:]-self._phi[1:-1])/self._grid.dx_PE\n",
    "        \n",
    "        # Calculate the linearization coefficients\n",
    "        coeffW = - self._gamma*self._grid.Aw/self._grid.dx_WP\n",
    "        coeffE = - self._gamma*self._grid.Ae/self._grid.dx_PE\n",
    "        coeffP = - coeffW - coeffE\n",
    "        \n",
    "        # Modify the linearization coefficients on the boundaries\n",
    "        coeffP[0] += coeffW[0]*self._west_bc.coeff()\n",
    "        coeffP[-1] += coeffE[-1]*self._east_bc.coeff()\n",
    "        \n",
    "        # Zero the boundary coefficients that are not used\n",
    "        coeffW[0] = 0.0\n",
    "        coeffE[-1] = 0.0\n",
    "        \n",
    "        # Calculate the net flux from each cell\n",
    "        flux = flux_e - flux_w\n",
    "        \n",
    "        # Add to coefficient arrays\n",
    "        coeffs.accumulate_aP(coeffP)\n",
    "        coeffs.accumulate_aW(coeffW)\n",
    "        coeffs.accumulate_aE(coeffE)\n",
    "        coeffs.accumulate_rP(flux)\n",
    "        \n",
    "        # Return the modified coefficient array\n",
    "        return coeffs"
   ]
  },
  {
   "cell_type": "markdown",
   "metadata": {},
   "source": [
    "## Class Defining the Surface Convection Model\n",
    "\n",
    "The surface convection model is introduced here.A constant external convection term is added  and Dirichlet boundary condtions are applied. The convection term is based on Newton's law of cooling where:\n",
    "\n",
    "$$ q = hA(T - T_\\infty) $$\n",
    "\n",
    "This term is added as a source term to the discretized equation set using the `SurfaceConvectionModel` class, shown below."
   ]
  },
  {
   "cell_type": "code",
   "execution_count": 813,
   "metadata": {},
   "outputs": [],
   "source": [
    "class SurfaceConvectionModel:\n",
    "    \"\"\"Class defining a surface convection model\"\"\"\n",
    "    \n",
    "    def __init__(self, grid):\n",
    "        \"\"\"Constructor\"\"\"\n",
    "        self._grid = grid\n",
    "        #self._T = T\n",
    "        #self._ho = ho\n",
    "        #self._To = To\n",
    "        \n",
    "    def add(self, coeffs):\n",
    "        \"\"\"Function to add surface convection terms to coefficient arrays\"\"\"\n",
    "        \n",
    "        # Calculate the source term\n",
    "        source = -50000*self._grid.vol\n",
    "        \n",
    "        # Calculate the linearization coefficients\n",
    "        #coeffP = \n",
    "        \n",
    "        # Add to coefficient arrays\n",
    "        #coeffs.accumulate_aP(coeffP)\n",
    "        coeffs.accumulate_rP(source)\n",
    "        \n",
    "        return coeffs"
   ]
  },
  {
   "cell_type": "markdown",
   "metadata": {},
   "source": [
    "## Function to Solve the Linear System\n",
    "\n",
    "For solving the linear system that results from discretization process, the coefficients are stored into a sparse matrix storage format.  A linear solver provided through the `scipy` libraries is used to solve that."
   ]
  },
  {
   "cell_type": "code",
   "execution_count": 814,
   "metadata": {},
   "outputs": [],
   "source": [
    "from scipy.sparse.linalg import spsolve\n",
    "from scipy.sparse import csr_matrix\n",
    "\n",
    "def get_sparse_matrix(coeffs):\n",
    "    \"\"\"Function to return a sparse matrix representation of a set of scalar coefficients\"\"\"\n",
    "    ncv = coeffs.ncv\n",
    "    data = np.zeros(3*ncv-2)\n",
    "    rows = np.zeros(3*ncv-2, dtype=int)\n",
    "    cols = np.zeros(3*ncv-2, dtype=int)\n",
    "    data[0] = coeffs.aP[0]\n",
    "    data[1] = coeffs.aE[0]\n",
    "    rows[0] = 0\n",
    "    cols[0] = 0\n",
    "    rows[1] = 0\n",
    "    cols[1] = 1\n",
    "    for i in range(ncv-2):\n",
    "        data[3*i+2] = coeffs.aW[i+1]\n",
    "        data[3*i+3] = coeffs.aP[i+1]\n",
    "        data[3*i+4] = coeffs.aE[i+1]\n",
    "        rows[3*i+2:3*i+5] = i+1\n",
    "        cols[3*i+2] = i\n",
    "        cols[3*i+3] = i+1\n",
    "        cols[3*i+4] = i+2\n",
    "    data[3*ncv-4] = coeffs.aW[-1]\n",
    "    data[3*ncv-3] = coeffs.aP[-1]\n",
    "    rows[3*ncv-4:3*ncv-2] = ncv-1\n",
    "    cols[3*ncv-4] = ncv-2\n",
    "    cols[3*ncv-3] = ncv-1\n",
    "    return csr_matrix((data, (rows, cols)))\n",
    "\n",
    "def solve(coeffs):\n",
    "    \"\"\"Function to solve the linear system and return the correction field\"\"\"\n",
    "    # Get the sparse matrix\n",
    "    A = get_sparse_matrix(coeffs)\n",
    "    # Solve the linear system\n",
    "    return spsolve(A, -coeffs.rP)"
   ]
  },
  {
   "cell_type": "markdown",
   "metadata": {},
   "source": [
    "## Solution of the Problem\n",
    "\n",
    "Following is the code that has been applied to solve this problem."
   ]
  },
  {
   "cell_type": "markdown",
   "metadata": {},
   "source": [
    "# Determination of Required Number of Iterations for Convergence "
   ]
  },
  {
   "cell_type": "markdown",
   "metadata": {},
   "source": [
    "# Convergence Criteria 1e-6"
   ]
  },
  {
   "cell_type": "code",
   "execution_count": 815,
   "metadata": {},
   "outputs": [],
   "source": [
    "def problem3(ncv):    \n",
    "    import numpy as np\n",
    "    from numpy.linalg import norm\n",
    "\n",
    "    # Set the maximum number of iterations and convergence criterion\n",
    "    maxIter = 1000\n",
    "    converged = 1e-6\n",
    "\n",
    "    # Define thermophysical properties\n",
    "    k = 26\n",
    "\n",
    "    # Define convection parameters\n",
    "    ho = 280\n",
    "    To = 60\n",
    "\n",
    "    # Define the coefficients\n",
    "    coeffs = ScalarCoeffs(grid.ncv)\n",
    "\n",
    "    # Initial conditions\n",
    "    T0 = 300\n",
    "\n",
    "    # Initialize field variable arrays\n",
    "    T = T0*np.ones(grid.ncv+2)\n",
    "\n",
    "    # Define boundary conditions\n",
    "    west_bc = RobinBc(T, grid, ho, k, BoundaryLocation.WEST)\n",
    "    east_bc = RobinBc(T, grid, ho, k,  BoundaryLocation.EAST)\n",
    "\n",
    "    # Apply boundary conditions\n",
    "    west_bc.apply()\n",
    "    east_bc.apply()\n",
    "\n",
    "    # Define the diffusion model\n",
    "    diffusion = DiffusionModel(grid, T, k, west_bc, east_bc)\n",
    "\n",
    "    # Define the surface convection model\n",
    "    surfaceConvection = SurfaceConvectionModel(grid)\n",
    "\n",
    "    # Iterate until the solution is converged\n",
    "    for i in range(maxIter):\n",
    "        # Zero the coefficients and add each influence\n",
    "        coeffs.zero()\n",
    "        coeffs = diffusion.add(coeffs)\n",
    "        coeffs = surfaceConvection.add(coeffs)\n",
    "\n",
    "        # Compute residual and check for convergence \n",
    "        maxResid = norm(coeffs.rP, np.inf)\n",
    "        avgResid = np.mean(np.absolute(coeffs.rP))\n",
    "        print(\"Iteration = {}; Max. Resid. = {}; Avg. Resid. = {}\".format(i, maxResid, avgResid))\n",
    "        if maxResid < converged:\n",
    "            break\n",
    "\n",
    "        # Solve the sparse matrix system\n",
    "        dT = solve(coeffs)\n",
    "\n",
    "        # Update the solution and boundary conditions\n",
    "        T[1:-1] += dT\n",
    "        west_bc.apply()\n",
    "        east_bc.apply()\n",
    "    return T\n",
    "    \n"
   ]
  },
  {
   "cell_type": "code",
   "execution_count": 816,
   "metadata": {},
   "outputs": [
    {
     "name": "stdout",
     "output_type": "stream",
     "text": [
      "Iteration = 0; Max. Resid. = 1.6492843137254878; Avg. Resid. = 0.5529444444444438\n",
      "Iteration = 1; Max. Resid. = 3.3410774147313305e-15; Avg. Resid. = 1.3970306393199887e-15\n",
      "Iteration = 0; Max. Resid. = 1.714507299270077; Avg. Resid. = 0.34625912408759174\n",
      "Iteration = 1; Max. Resid. = 6.449701883681769e-15; Avg. Resid. = 2.1257301474619796e-15\n"
     ]
    }
   ],
   "source": [
    "%matplotlib inline\n",
    "import matplotlib.pyplot as plt\n",
    "import numpy as np\n",
    "lx = 0.1\n",
    "ly = 0.005\n",
    "lz = 0.005\n",
    "xPosition=[]\n",
    "Temp=[]\n",
    "\n",
    "for i in range(2):\n",
    "    ncv= 4*(i) + 6\n",
    "    grid = Grid(lx, ly, lz, ncv)\n",
    "    xPosition.append(grid.xP)\n",
    "    Temp.append(problem3(ncv))"
   ]
  },
  {
   "cell_type": "markdown",
   "metadata": {},
   "source": [
    "# Convergence Criteria 1e-10"
   ]
  },
  {
   "cell_type": "code",
   "execution_count": 817,
   "metadata": {},
   "outputs": [],
   "source": [
    "def problem3(ncv):    \n",
    "    import numpy as np\n",
    "    from numpy.linalg import norm\n",
    "\n",
    "    # Set the maximum number of iterations and convergence criterion\n",
    "    maxIter = 1000\n",
    "    converged = 1e-10\n",
    "\n",
    "    # Define thermophysical properties\n",
    "    k = 26\n",
    "\n",
    "    # Define convection parameters\n",
    "    ho = 280\n",
    "    To = 60\n",
    "\n",
    "    # Define the coefficients\n",
    "    coeffs = ScalarCoeffs(grid.ncv)\n",
    "\n",
    "    # Initial conditions\n",
    "    T0 = 300\n",
    "\n",
    "    # Initialize field variable arrays\n",
    "    T = T0*np.ones(grid.ncv+2)\n",
    "\n",
    "    # Define boundary conditions\n",
    "    west_bc = RobinBc(T, grid, ho, k, BoundaryLocation.WEST)\n",
    "    east_bc = RobinBc(T, grid, ho, k,  BoundaryLocation.EAST)\n",
    "\n",
    "    # Apply boundary conditions\n",
    "    west_bc.apply()\n",
    "    east_bc.apply()\n",
    "\n",
    "    # Define the diffusion model\n",
    "    diffusion = DiffusionModel(grid, T, k, west_bc, east_bc)\n",
    "\n",
    "    # Define the surface convection model\n",
    "    surfaceConvection = SurfaceConvectionModel(grid)\n",
    "\n",
    "    # Iterate until the solution is converged\n",
    "    for i in range(maxIter):\n",
    "        # Zero the coefficients and add each influence\n",
    "        coeffs.zero()\n",
    "        coeffs = diffusion.add(coeffs)\n",
    "        coeffs = surfaceConvection.add(coeffs)\n",
    "\n",
    "        # Compute residual and check for convergence \n",
    "        maxResid = norm(coeffs.rP, np.inf)\n",
    "        avgResid = np.mean(np.absolute(coeffs.rP))\n",
    "        print(\"Iteration = {}; Max. Resid. = {}; Avg. Resid. = {}\".format(i, maxResid, avgResid))\n",
    "        if maxResid < converged:\n",
    "            break\n",
    "\n",
    "        # Solve the sparse matrix system\n",
    "        dT = solve(coeffs)\n",
    "\n",
    "        # Update the solution and boundary conditions\n",
    "        T[1:-1] += dT\n",
    "        west_bc.apply()\n",
    "        east_bc.apply()\n",
    "    return T\n",
    "    \n",
    "#print(grid.vol)\n",
    "#print(grid.Ao)"
   ]
  },
  {
   "cell_type": "code",
   "execution_count": 818,
   "metadata": {},
   "outputs": [
    {
     "name": "stdout",
     "output_type": "stream",
     "text": [
      "Iteration = 0; Max. Resid. = 1.6492843137254878; Avg. Resid. = 0.5529444444444438\n",
      "Iteration = 1; Max. Resid. = 3.3410774147313305e-15; Avg. Resid. = 1.3970306393199887e-15\n",
      "Iteration = 0; Max. Resid. = 1.714507299270077; Avg. Resid. = 0.34625912408759174\n",
      "Iteration = 1; Max. Resid. = 6.449701883681769e-15; Avg. Resid. = 2.1257301474619796e-15\n"
     ]
    }
   ],
   "source": [
    "%matplotlib inline\n",
    "import matplotlib.pyplot as plt\n",
    "import numpy as np\n",
    "lx = 0.1\n",
    "ly = 0.005\n",
    "lz = 0.005\n",
    "xPosition=[]\n",
    "Temp=[]\n",
    "\n",
    "for i in range(2):\n",
    "    ncv= 4*(i) + 6\n",
    "    grid = Grid(lx, ly, lz, ncv)\n",
    "    xPosition.append(grid.xP)\n",
    "    Temp.append(problem3(ncv))"
   ]
  },
  {
   "cell_type": "markdown",
   "metadata": {},
   "source": [
    "# Discussion on Determination of Required Number of Iterations for Convergence\n",
    "\n",
    "Required number of iterations for convergence have been determined. To do this, two convergence criteria were taken into consideration and these are 1e-6, 1e-10. After running the code for the above-mentioned convergence criteria, it was observed that:\n",
    "\n",
    "### At convergence criteria 1e-6: \n",
    "Convergence takes place after 2 iterations (from 0 to 1). And it happened for both number of control volumes (i.e., ncv = 6 & ncv = 10)\n",
    "\n",
    "### At convergence criteria 1e-10: \n",
    "Convergence takes place after 2 iterations (from 0 to 1). And it happened for both number of control volumes (i.e., ncv = 6 & ncv = 10)\n",
    "\n",
    "### Conclusion: \n",
    "As for both consecutive convergence criteria i.e., 1e-6 and 1e-10, 2 iterations (from 0 to 1) were enough for convergence to take place for both 6 and 10 control volumes, so required number of iterations for steel is determined to be 2.\n",
    "\n",
    "### Explanation:\n",
    "One of the most vital procedures of an iterative solution’s convergence is measuring the residual. Residual straight away enumerates the error in the solution of the system of equations. In Computational Fluid Dynamics analysis, the residual quantifies the local imbalance of a conserved variable in each control volume. So, each cell in the model will have its individual residual value for each of the equations being solved. \n",
    "\n",
    "Exact zero can never be achieved in an iterative numerical solution. However, the lower the residual value is, the more numerically correct the solution.\n",
    "\n",
    "This residual value which is involved with the quantification of local imbalance of conserved cell, depends upon the source term. If the source term is either zero or a constant or very small, then the local imbalance of conserved cell is also very small hence negligible and as a result convergence takes place with very few number of iterations even 1 or 2.\n",
    "\n",
    "For this problem, the source term is constant. It is anticipated that, because of this reason, convergence took place very quickly.\n"
   ]
  },
  {
   "cell_type": "markdown",
   "metadata": {},
   "source": [
    "# Study of Grid Independence "
   ]
  },
  {
   "cell_type": "code",
   "execution_count": 819,
   "metadata": {},
   "outputs": [
    {
     "name": "stdout",
     "output_type": "stream",
     "text": [
      "[array([0.        , 0.00833333, 0.025     , 0.04166667, 0.05833333,\n",
      "       0.075     , 0.09166667, 0.1       ]), array([0.   , 0.005, 0.015, 0.025, 0.035, 0.045, 0.055, 0.065, 0.075,\n",
      "       0.085, 0.095, 0.1  ])]\n",
      "[array([52.17857143, 53.27152015, 54.92322955, 56.04075092, 56.62408425,\n",
      "       56.67322955, 56.18818681, 55.67857143]), array([52.17857143, 52.83434066, 53.95357143, 54.88049451, 55.61510989,\n",
      "       56.15741758, 56.50741758, 56.66510989, 56.63049451, 56.40357143,\n",
      "       55.98434066, 55.67857143])]\n"
     ]
    }
   ],
   "source": [
    "import numpy as np\n",
    "print(xPosition)\n",
    "print(Temp)"
   ]
  },
  {
   "cell_type": "code",
   "execution_count": 820,
   "metadata": {},
   "outputs": [
    {
     "data": {
      "image/png": "[encoded data removed]",
      "text/plain": [
       "<Figure size 432x288 with 1 Axes>"
      ]
     },
     "metadata": {},
     "output_type": "display_data"
    }
   ],
   "source": [
    "%matplotlib inline\n",
    "import matplotlib.pyplot as plt\n",
    "\n",
    "i = 0\n",
    "for x, T in zip(xPosition, Temp):\n",
    "    plt.plot(x, T, '*', label=str(len(xPosition[i])))\n",
    "    i=i+1\n",
    "\n",
    "plt.xlabel(\"x\")\n",
    "plt.ylabel(\"T\")\n",
    "plt.ylim(50,60)\n",
    "plt.legend()\n",
    "plt.show()"
   ]
  },
  {
   "cell_type": "code",
   "execution_count": 821,
   "metadata": {},
   "outputs": [
    {
     "data": {
      "image/png": "[encoded data removed]",
      "text/plain": [
       "<Figure size 432x288 with 1 Axes>"
      ]
     },
     "metadata": {},
     "output_type": "display_data"
    }
   ],
   "source": [
    "%matplotlib inline\n",
    "import matplotlib.pyplot as plt\n",
    "\n",
    "i = 0\n",
    "for x, T in zip(xPosition, Temp):\n",
    "    plt.plot(x, T, '-', label=str(len(xPosition[i])))\n",
    "    i=i+1\n",
    "\n",
    "plt.xlabel(\"x\")\n",
    "plt.ylabel(\"T\")\n",
    "plt.ylim(50,60)\n",
    "plt.legend()\n",
    "plt.show()"
   ]
  },
  {
   "cell_type": "markdown",
   "metadata": {},
   "source": [
    "# Discussion on the Study of Grid Independence \n",
    "Even though above two graphs represent the same result, but they are presented in different ways. From the first graph, it is realizable that it represents the data for both 6 and 10 control volumes. The second graph also represents data for both 6 and 10 control volumes but as they have overlapped each other so it is difficult to differentiate from each other. From this, it can be concluded that 6 control volumes are enough to obtain a grid independent solution\n"
   ]
  },
  {
   "cell_type": "markdown",
   "metadata": {},
   "source": [
    "# Analytical Solution"
   ]
  },
  {
   "cell_type": "markdown",
   "metadata": {},
   "source": [
    "## Equations Used"
   ]
  },
  {
   "cell_type": "markdown",
   "metadata": {},
   "source": [
    "The temperature profile in 1D convection-conduction problem with internal heat generation of rate q’’’ can be determined by\n",
    "\n",
    "$$T=-\\frac{q\\prime\\prime\\prime}{2k}x^2+\\frac{h_1(T_1-T_{\\infty1})}{k}x+T_1$$\n",
    "\n",
    "At x=L, $${T=T}_2$$,\n",
    "\n",
    "$$T_2=-\\frac{q}{2k}L^2+\\frac{h_1(T_1-T_{\\infty1})}{k}L+T_1$$\n",
    "\n",
    "From energy balance,\n",
    "\n",
    "$$qL=h_1\\left(T_1-T_{\\infty1}\\right)+h_2\\left(T_2-T_{\\infty2}\\right)$$\n",
    "\n",
    "Solving the previous two equations yields,\n",
    "\n",
    "$$T_1=\\frac{\\frac{qL}{h_2}+\\frac{qL^2}{2k}+\\frac{h_1}{h_2}T_{\\infty1}+\\frac{h_1L}{k}T_{\\infty1}+T_{\\infty2}}{\\frac{h_1}{h_2}+\\frac{h_1L}{k}+1}$$\n",
    "\n",
    "To get the location of maximum temperature put$$\\ \\frac{dT}{dx}=0$$. This will yield,\n",
    "\n",
    "$$x\\left(T_{max}\\right)=\\frac{h_1(T_1-T_{\\infty1})}{q}$$\n",
    "\n",
    "Where,\n",
    "\n",
    "T1: Temperature at x=0; \n",
    "T2: Temperature at x=L\n",
    "\n",
    "\n",
    "Reference: Rathore, M. M., & Kapuno, R. (2011). Engineering heat transfer. Jones & Bartlett Publishers."
   ]
  },
  {
   "cell_type": "markdown",
   "metadata": {},
   "source": [
    "## List of Values Considered"
   ]
  },
  {
   "cell_type": "markdown",
   "metadata": {},
   "source": [
    "Variables along with their values are given below\n",
    "\n",
    "\n",
    "Variable          | Valiue\n",
    ":----------:      | :------------------------: \n",
    "q                 | 50000 [W/m$^3$]\n",
    "h1                | 280 [W/m$^2\\cdot$K]\n",
    "h2                | 280 [W/m$^2\\cdot$K]\n",
    "$$T_{\\infty1}$$   | 40 [$^\\circ$C]\n",
    "$$T_{\\infty2}$$   | 50 [$^\\circ$C]\n",
    "L                 | 0.1 [m]\n",
    "k                 | 26 [W/m$\\cdot$K]"
   ]
  },
  {
   "cell_type": "markdown",
   "metadata": {},
   "source": [
    "## Calculation of T1 & T2"
   ]
  },
  {
   "cell_type": "code",
   "execution_count": 822,
   "metadata": {},
   "outputs": [
    {
     "name": "stdout",
     "output_type": "stream",
     "text": [
      "After replacing the values into the equation of T1, it gives: 52.17857142857143\n",
      "After replacing the values into the equation of T2, it gives: 55.67857142857143\n"
     ]
    }
   ],
   "source": [
    "T1 = ((50000*0.1/280) + (50000*0.1*0.1)/(2*26) + 40 + (280*0.1/26)*40 + 50 )/(1 + (280*0.1/26) + 1)\n",
    "print('After replacing the values into the equation of T1, it gives:',T1)\n",
    "T2 = -(50000/(2*26))*0.1*0.1 + (280*0.1*(T1-40)/26) + T1\n",
    "print('After replacing the values into the equation of T2, it gives:',T2)"
   ]
  },
  {
   "cell_type": "markdown",
   "metadata": {},
   "source": [
    "## Calculation of Analytical Temperature at various x position"
   ]
  },
  {
   "cell_type": "code",
   "execution_count": 823,
   "metadata": {},
   "outputs": [
    {
     "name": "stdout",
     "output_type": "stream",
     "text": [
      "Analytical values of T are given below\n",
      "---------------------------------------\n",
      "T at x = 0 is           52.17857142857143\n",
      "T at x = 0.00833333 is  53.20474625848595\n",
      "T at x = 0.025 is       54.856456043956044\n",
      "T at x = 0.04166667 is  55.97397758156287\n",
      "T at x = 0.05833333 is  56.557310681562875\n",
      "T at x = 0.075 is       56.60645604395605\n",
      "T at x = 0.09166667 is  56.12141315848595\n",
      "T at x = 0.1 is         55.67857142857143\n",
      "---------------------------------------\n"
     ]
    }
   ],
   "source": [
    "Tatx0 = (-(50000/(2*26))*0*0 + (280*0*(52.17857142857143-40)/26) + 52.17857142857143) \n",
    "Tatx1 = (-(50000/(2*26))*0.00833333*0.00833333 + (280*0.00833333*(52.17857142857143-40)/26) + 52.17857142857143)\n",
    "Tatx2 = (-(50000/(2*26))*0.025*0.025 + (280*0.025*(52.17857142857143-40)/26) + 52.17857142857143)\n",
    "Tatx3 = (-(50000/(2*26))*0.04166667*0.04166667 + (280*0.04166667*(52.17857142857143-40)/26) + 52.17857142857143) \n",
    "Tatx4 = (-(50000/(2*26))*0.05833333*0.05833333 + (280*0.05833333*(52.17857142857143-40)/26) + 52.17857142857143)\n",
    "Tatx5 = (-(50000/(2*26))*0.075*0.075 + (280*0.075*(52.17857142857143-40)/26) + 52.17857142857143)\n",
    "Tatx6 = (-(50000/(2*26))*0.09166667*0.09166667 + (280*0.09166667*(52.17857142857143-40)/26) + 52.17857142857143) \n",
    "Tatx7 = (-(50000/(2*26))*0.1*0.1 + (280*0.1*(52.17857142857143-40)/26) + 52.17857142857143)\n",
    "print ('Analytical values of T are given below')\n",
    "print ('---------------------------------------')\n",
    "print ('T at x = 0 is          ',(Tatx0))\n",
    "print ('T at x = 0.00833333 is ',(Tatx1))\n",
    "print ('T at x = 0.025 is      ',(Tatx2))\n",
    "print ('T at x = 0.04166667 is ',(Tatx3))\n",
    "print ('T at x = 0.05833333 is ',(Tatx4))\n",
    "print ('T at x = 0.075 is      ',(Tatx5))\n",
    "print ('T at x = 0.09166667 is ',(Tatx6))\n",
    "print ('T at x = 0.1 is        ',(Tatx7))\n",
    "print ('---------------------------------------')\n"
   ]
  },
  {
   "cell_type": "markdown",
   "metadata": {},
   "source": [
    "## Comparison between Analytical & Computational Results"
   ]
  },
  {
   "cell_type": "code",
   "execution_count": 824,
   "metadata": {},
   "outputs": [
    {
     "data": {
      "image/png": "[encoded data removed]",
      "text/plain": [
       "<Figure size 432x288 with 1 Axes>"
      ]
     },
     "metadata": {},
     "output_type": "display_data"
    }
   ],
   "source": [
    "%matplotlib inline\n",
    "import matplotlib.pyplot as plt\n",
    "x =[0.        , 0.00833333, 0.025     , 0.04166667, 0.05833333,       0.075     , 0.09166667, 0.1]\n",
    "Tcomputational = [52.17857143, 53.27152015, 54.92322955, 56.04075092, 56.62408425,       56.67322955, 56.18818681, 55.67857143]\n",
    "Tanalytical    = [52.17857142857143,53.20474625848595,54.856456043956044,55.97397758156287,56.557310681562875,56.60645604395605,56.12141315848595,55.67857142857143]\n",
    "\n",
    "plt.plot(x, Tcomputational , '*', label='Tcomputational')\n",
    "plt.plot(x, Tanalytical,'-', label='Tanalytical')\n",
    "plt.xlabel(\"x\")\n",
    "plt.ylabel(\"T\")\n",
    "plt.ylim(50,60)\n",
    "plt.legend()\n",
    "plt.show()"
   ]
  },
  {
   "cell_type": "markdown",
   "metadata": {},
   "source": [
    "The maximum temperature is 56.67322955 degree Celsius (computationally), 56.60645604395605 degree Celsius (analytically) at a location at x = 0.075.\n",
    "The temperature distribution shows the surface temperature of the wall. \n",
    "\n",
    "The temperatures are less at the boundary and higher in between the two ends specifically highest at x = 0.075. This is due to the heat generation.\n",
    "\n",
    "\n",
    "The comparative graph shows that, the compuatational and analytical results are exactly matching with each other. \n",
    "\n",
    "So,  from the perspective of accuracy of results, this confirms the accuracy of the computational result.\n",
    "\n",
    "Again from the perspective of physics, it can be easily concluded that the phenomena which is described in the problem is completely inline with the underlying physics of it."
   ]
  },
  {
   "cell_type": "code",
   "execution_count": null,
   "metadata": {},
   "outputs": [],
   "source": []
  }
 ],
 "metadata": {
  "kernelspec": {
   "display_name": "Python 3",
   "language": "python",
   "name": "python3"
  },
  "language_info": {
   "codemirror_mode": {
    "name": "ipython",
    "version": 3
   },
   "file_extension": ".py",
   "mimetype": "text/x-python",
   "name": "python",
   "nbconvert_exporter": "python",
   "pygments_lexer": "ipython3",
   "version": "3.6.5"
  }
 },
 "nbformat": 4,
 "nbformat_minor": 2
}
