{
 "cells": [
  {
   "cell_type": "markdown",
   "metadata": {},
   "source": [
    "## Problem 1 - Linear Heat Conduction\n",
    "\n",
    "Solve for the one-dimensional temperature distribution in a square bar of mild steel as given below. The properties of mild steel are:\n",
    "\n",
    " - $k$ = 60 [W/m$\\cdot$K]\n",
    " - $\\rho$ = 7800 [kg/m$^3$]\n",
    " - $c_p$ = 430 [J/kg$\\cdot$K]\n",
    " \n",
    "Assume the convection coefficient is zero on the exposed surfaces, and fixed end temperatures of $T_1$ =100 [$^\\circ$C] and $T_2$ = 0 [$^\\circ$C].\n",
    "\n",
    "![SquareBar](Figures/1-SquareBar.png)"
   ]
  },
  {
   "cell_type": "markdown",
   "metadata": {},
   "source": [
    "This problem deals with heat conduction in a mild steel, square bar. Heat transfers from one end to the other since end temperatures are maintained at 100oC and 0oC. Heat transfer by convection from the exposed surfaces of the bar is considered negligible. This problem is solved for the temperature field in the bar. The expected profile of temperature in the bar is a linear profile connecting the maximum temperature at the 100oC end and the minimum temperature at the 0oC end.  \n",
    "A domain is created numerically with dimensions of the bar. The energy equation is discretized and implemented on the domain with boundary conditions of the end temperatures. \n"
   ]
  },
  {
   "cell_type": "markdown",
   "metadata": {},
   "source": [
    "## Class Defining a One-Dimensional Cartesian Grid\n",
    "\n",
    "\n",
    "In finite volume method, it is required to consider a grid on which the equations are discretized for solving any problem. Hence, it is required to define data structure to store the quantities related to grid. These are being used in computational code in addition to calculation of relevant grid parameters. For solving the problem stated above a simple one-dimensional Cartesian grid is taken into consideration.\n",
    "\n",
    "First to define a grid it is required to introduce class, which includes a method called ``__init__``. It  is commonly known as a *constructor*, as it helps to construct a new object.\n",
    "\n",
    "The class ``Grid`` takes four arguments, as shown below.\n",
    "\n",
    "Variable    | Description\n",
    ":----------:| :------------------------: \n",
    "`lx`        | total length of domain in x-direction [m]\n",
    "`ly`        | total length of domain in y-direction [m]\n",
    "`lz`        | total length of domain in z-direction [m]\n",
    "`ncv`       | number of control volumes in domain\n",
    "\n",
    "[Reference: Taken from the class lecture of Professor DeGroot]\n",
    "\n",
    "A list of the variables provided by this class is:\n",
    "\n",
    "Variable    | Description                                         | Array dimension\n",
    ":----------:| :--------------------------------------------------:|:---------------:\n",
    "`ncv`       | number of control volumes in domain                 | N/A\n",
    "`xf`        | array of x locations of face integration points [m] | `ncv+1`\n",
    "`xP`        | array of x locations of cell centroids [m]          | `ncv+2`\n",
    "`dx_WP`     | array of distances from W cell to P cell [m]        | `ncv`\n",
    "`dx_PE`     | array of distances from P cell to E cell [m]        | `ncv`\n",
    "`Af`        | array of face areas [m$^2$]                         | `ncv+1`\n",
    "`Aw`        | array of west face areas [m$^2$]                    | `ncv`\n",
    "`Ae`        | array of east areas [m$^2$]                         | `ncv`\n",
    "`Ao`        | array of outer surface areas [m$^2$]                | `ncv`\n",
    "`vol`       | array of cell volumes [m$^3$]                       | `ncv`\n",
    "\n",
    "[Reference:Taken from the class lecture of Professor DeGroot]\n",
    "\n",
    "\n",
    "Explanation of Array dimension\n",
    "\n",
    "`xf   `: generally arrays relating to face-based quantities have dimension `ncv+1` (as this includes the boundary faces)\n",
    "\n",
    "`Af   `: because of the same reason of previous variable it also has the same dimension i.e., `ncv+1` \n",
    "\n",
    "`xP`   : this array has dimension `ncv+2` to account for 'virual cells' located on the boundaries with zero thickness.\n",
    "\n",
    "Remaining all the variables in the list have dimension equal to `ncv` which is relizable from the basic understanding of grid structure.\n"
   ]
  },
  {
   "cell_type": "code",
   "execution_count": 1364,
   "metadata": {},
   "outputs": [],
   "source": [
    "import numpy as np\n",
    "\n",
    "class Grid:\n",
    "    \"\"\"Class defining a one-dimensional Cartesian grid\"\"\"\n",
    "    \n",
    "    def __init__(self, lx, ly, lz, ncv):\n",
    "        \"\"\"Constructor\n",
    "            lx .... total length of domain in x-direction [m]\n",
    "            ly .... total length of domain in y-direction [m]\n",
    "            lz .... total length of domain in z-direction [m]\n",
    "            ncv ... number of control volumes in domain\n",
    "        \"\"\"\n",
    "        # Store the number of control volumes\n",
    "        self._ncv = ncv\n",
    "        \n",
    "        # Calculate the control volume length\n",
    "        dx = lx/float(ncv)\n",
    "        \n",
    "        # Calculate the face locations\n",
    "        self._xf = np.array([i*dx for i in range(ncv+1)])\n",
    "        \n",
    "        # Calculate the cell centroid locations\n",
    "        self._xP = np.array([self._xf[0]] + \n",
    "                            [0.5*(self._xf[i]+self._xf[i+1]) for i in range(ncv)] +\n",
    "                            [self._xf[-1]])\n",
    "        \n",
    "        # Calculate face areas\n",
    "        self._Af = ly*lz*np.ones(ncv+1)\n",
    "        \n",
    "        # Calculate the outer surface area for each cell\n",
    "        self._Ao = (2.0*dx*ly + 2.0*dx*lz)*np.ones(ncv)\n",
    "        \n",
    "        # Calculate cell volumes\n",
    "        self._vol = dx*ly*lz*np.ones(ncv)\n",
    "        \n",
    "    @property\n",
    "    def ncv(self):\n",
    "        \"\"\"Number of control volumes in domain\"\"\"\n",
    "        return self._ncv\n",
    "    \n",
    "    @property\n",
    "    def xf(self):\n",
    "        \"\"\"Face location array\"\"\"\n",
    "        return self._xf\n",
    "    \n",
    "    @property\n",
    "    def xP(self):\n",
    "        \"\"\"Cell centroid array\"\"\"\n",
    "        return self._xP\n",
    "    \n",
    "    @property\n",
    "    def dx_WP(self):\n",
    "        return self.xP[1:-1]-self.xP[0:-2]\n",
    "        \n",
    "    @property\n",
    "    def dx_PE(self):\n",
    "        return self.xP[2:]-self.xP[1:-1]\n",
    "      \n",
    "    @property\n",
    "    def Af(self):\n",
    "        \"\"\"Face area array\"\"\"\n",
    "        return self._Af\n",
    "\n",
    "    @property\n",
    "    def Aw(self):\n",
    "        \"\"\"West face area array\"\"\"\n",
    "        return self._Af[0:-1]\n",
    "    \n",
    "    @property\n",
    "    def Ae(self):\n",
    "        \"\"\"East face area array\"\"\"\n",
    "        return self._Af[1:]\n",
    "    \n",
    "    @property\n",
    "    def Ao(self):\n",
    "        \"\"\"Outer face area array\"\"\"\n",
    "        return self._Ao\n",
    "    \n",
    "    @property\n",
    "    def vol(self):\n",
    "        \"\"\"Cell volume array\"\"\"\n",
    "        return self._vol"
   ]
  },
  {
   "cell_type": "markdown",
   "metadata": {},
   "source": [
    "## Class Defining the Set of Coefficients\n",
    "\n",
    "To solve a linear system which is needed to be solved, it is good to define a class that can store the terms related to the linear system. Hence, in the following, a class is defined for the set of coefficients."
   ]
  },
  {
   "cell_type": "code",
   "execution_count": 1365,
   "metadata": {},
   "outputs": [],
   "source": [
    "class ScalarCoeffs:\n",
    "    \"\"\"Class defining the set of coefficients for a finite-volume discretization\n",
    "       of a scalar partial differential equation.\n",
    "    \"\"\"\n",
    "    \n",
    "    def __init__(self, ncv):\n",
    "        \"\"\"Constructor\n",
    "            ncv ... number of control volumes in domain\n",
    "        \"\"\"\n",
    "        self._ncv = ncv\n",
    "        self._aP = np.zeros(ncv)\n",
    "        self._aW = np.zeros(ncv)\n",
    "        self._aE = np.zeros(ncv)\n",
    "        self._rP = np.zeros(ncv)\n",
    "        \n",
    "    def zero(self):\n",
    "        \"\"\"Function to zero the coefficient arrays\"\"\"\n",
    "        self._aP.fill(0.0)\n",
    "        self._aW.fill(0.0)\n",
    "        self._aE.fill(0.0)\n",
    "        self._rP.fill(0.0)\n",
    "        \n",
    "    def accumulate_aP(self, aP):\n",
    "        \"\"\"Function to accumulate values onto aP\"\"\"\n",
    "        self._aP += aP\n",
    "        \n",
    "    def accumulate_aW(self, aW):\n",
    "        \"\"\"Function to accumulate values onto aW\"\"\"\n",
    "        self._aW += aW\n",
    "\n",
    "    def accumulate_aE(self, aE):\n",
    "        \"\"\"Function to accumulate values onto aE\"\"\"\n",
    "        self._aE += aE\n",
    "        \n",
    "    def accumulate_rP(self, rP):\n",
    "        \"\"\"Function to accumulate values onto rP\"\"\"\n",
    "        self._rP += rP\n",
    "        \n",
    "    @property\n",
    "    def ncv(self):\n",
    "        \"\"\"Number of control volumes in domain\"\"\"\n",
    "        return self._ncv\n",
    "        \n",
    "    @property\n",
    "    def aP(self):\n",
    "        \"\"\"Cell coefficient\"\"\"\n",
    "        return self._aP\n",
    "    \n",
    "    @property\n",
    "    def aW(self):\n",
    "        \"\"\"West cell coefficient\"\"\"\n",
    "        return self._aW\n",
    "    \n",
    "    @property\n",
    "    def aE(self):\n",
    "        \"\"\"East cell coefficient\"\"\"\n",
    "        return self._aE\n",
    "    \n",
    "    @property\n",
    "    def rP(self):\n",
    "        \"\"\"Cell residual\"\"\"\n",
    "        return self._rP"
   ]
  },
  {
   "cell_type": "markdown",
   "metadata": {},
   "source": [
    "## Classes Defining the Boundary Conditions\n",
    "\n",
    "For solving any partial differential equation, boundary conditions are needed. There are generally three types of boundary conditions such as \"Dirichlet\", \"Neumann\", and \"Robin\". For, this problem \"Dirichlet\" boundary conditions will be required.\n",
    "\n",
    "### Enumeration Class Defining the Boundary Locations\n",
    "\n",
    "Now, a special kind of class, called an \"enumeration\" (abbreviated `Enum` in Python) will be introduced which helps make code more readable."
   ]
  },
  {
   "cell_type": "code",
   "execution_count": 1366,
   "metadata": {},
   "outputs": [],
   "source": [
    "from enum import Enum\n",
    "\n",
    "class BoundaryLocation(Enum):\n",
    "    \"\"\"Enumeration class defining boundary condition locations\"\"\"\n",
    "    WEST = 1\n",
    "    EAST = 2"
   ]
  },
  {
   "cell_type": "markdown",
   "metadata": {},
   "source": [
    "**Dirichlet Boundary Condition**\n",
    "\n",
    "This boundary condition specifies the dependent variable at the boundary, i.e.:\n",
    "\n",
    "$$ T = T_{b} $$\n",
    "\n",
    "### Implementation of the Boundary Conditions\n",
    "\n",
    "While defining classes that deals with applying boundary conditions, having a common interface can make a huge save in effort. In order to take that advantage, each of the member functions (as given below) will be implemented:\n",
    "\n",
    "- `value()`: gives the calculated boundary value.\n",
    "- `coeff()`: gives the linearization coefficient for the boundary value, which is equivalent to the derivative of the boundary value with respect to the adjacent cell value\n",
    "- `apply()`: implements the boundary value to the field variable array that is held as a reference within the class."
   ]
  },
  {
   "cell_type": "code",
   "execution_count": 1367,
   "metadata": {},
   "outputs": [],
   "source": [
    "class DirichletBc:\n",
    "    \"\"\"Class defining a Dirichlet boundary condition\"\"\"\n",
    "    \n",
    "    def __init__(self, phi, grid, value, loc):\n",
    "        \"\"\"Constructor\n",
    "            phi ..... field variable array\n",
    "            grid .... grid\n",
    "            value ... boundary value\n",
    "            loc ..... boundary location\n",
    "        \"\"\"\n",
    "        self._phi = phi\n",
    "        self._grid = grid\n",
    "        self._value = value\n",
    "        self._loc = loc\n",
    "        \n",
    "    def value(self):\n",
    "        \"\"\"Return the boundary condition value\"\"\"\n",
    "        return self._value\n",
    "    \n",
    "    def coeff(self):\n",
    "        \"\"\"Return the linearization coefficient\"\"\"\n",
    "        return 0\n",
    "    \n",
    "    def apply(self):\n",
    "        \"\"\"Applies the boundary condition in the referenced field variable array\"\"\"\n",
    "        if self._loc is BoundaryLocation.WEST:\n",
    "            self._phi[0] = self._value\n",
    "        elif self._loc is BoundaryLocation.EAST:\n",
    "            self._phi[-1] = self._value\n",
    "        else:\n",
    "            raise ValueError(\"Unknown boundary location\")"
   ]
  },
  {
   "cell_type": "markdown",
   "metadata": {},
   "source": [
    "## Class Defining the Diffusion Model\n",
    "\n",
    "A class called `DiffusionModel` is defined which calculates the fluxes through the east and west faces for each of the control volume. It also calculates the linearization coefficients. These are stored in coefficient arrays and subsequently passed to the `add` method.\n"
   ]
  },
  {
   "cell_type": "code",
   "execution_count": 1368,
   "metadata": {},
   "outputs": [],
   "source": [
    "class DiffusionModel:\n",
    "    \"\"\"Class defining a diffusion model\"\"\"\n",
    "    \n",
    "    def __init__(self, grid, phi, gamma, west_bc, east_bc):\n",
    "        \"\"\"Constructor\"\"\"\n",
    "        self._grid = grid\n",
    "        self._phi = phi\n",
    "        self._gamma = gamma\n",
    "        self._west_bc = west_bc\n",
    "        self._east_bc = east_bc\n",
    "        \n",
    "    def add(self, coeffs):\n",
    "        \"\"\"Function to add diffusion terms to coefficient arrays\"\"\"\n",
    "        \n",
    "        # Calculate the west and east face diffusion flux terms for each face\n",
    "        flux_w = - self._gamma*self._grid.Aw*(self._phi[1:-1]-self._phi[0:-2])/self._grid.dx_WP\n",
    "        flux_e = - self._gamma*self._grid.Ae*(self._phi[2:]-self._phi[1:-1])/self._grid.dx_PE\n",
    "        \n",
    "        # Calculate the linearization coefficients\n",
    "        coeffW = - self._gamma*self._grid.Aw/self._grid.dx_WP\n",
    "        coeffE = - self._gamma*self._grid.Ae/self._grid.dx_PE\n",
    "        coeffP = - coeffW - coeffE\n",
    "        \n",
    "        # Modify the linearization coefficients on the boundaries\n",
    "        coeffP[0] += coeffW[0]*self._west_bc.coeff()\n",
    "        coeffP[-1] += coeffE[-1]*self._east_bc.coeff()\n",
    "        \n",
    "        # Zero the boundary coefficients that are not used\n",
    "        coeffW[0] = 0.0\n",
    "        coeffE[-1] = 0.0\n",
    "        \n",
    "        # Calculate the net flux from each cell\n",
    "        flux = flux_e - flux_w\n",
    "        \n",
    "        # Add to coefficient arrays\n",
    "        coeffs.accumulate_aP(coeffP)\n",
    "        coeffs.accumulate_aW(coeffW)\n",
    "        coeffs.accumulate_aE(coeffE)\n",
    "        coeffs.accumulate_rP(flux)\n",
    "        \n",
    "        # Return the modified coefficient array\n",
    "        return coeffs\n",
    "    "
   ]
  },
  {
   "cell_type": "markdown",
   "metadata": {},
   "source": [
    "## Function to Solve the Linear System\n",
    "\n",
    "For solving the linear system that results from discretization process, the coefficients are stored into a sparse matrix storage format.  A linear solver provided through the `scipy` libraries is used to solve that."
   ]
  },
  {
   "cell_type": "code",
   "execution_count": 1369,
   "metadata": {},
   "outputs": [],
   "source": [
    "from scipy.sparse.linalg import spsolve\n",
    "from scipy.sparse import csr_matrix\n",
    "\n",
    "def get_sparse_matrix(coeffs):\n",
    "    \"\"\"Function to return a sparse matrix representation of a set of scalar coefficients\"\"\"\n",
    "    ncv = coeffs.ncv\n",
    "    data = np.zeros(3*ncv-2)\n",
    "    rows = np.zeros(3*ncv-2, dtype=int)\n",
    "    cols = np.zeros(3*ncv-2, dtype=int)\n",
    "    data[0] = coeffs.aP[0]\n",
    "    data[1] = coeffs.aE[0]\n",
    "    rows[0] = 0\n",
    "    cols[0] = 0\n",
    "    rows[1] = 0\n",
    "    cols[1] = 1\n",
    "    for i in range(ncv-2):\n",
    "        data[3*i+2] = coeffs.aW[i+1]\n",
    "        data[3*i+3] = coeffs.aP[i+1]\n",
    "        data[3*i+4] = coeffs.aE[i+1]\n",
    "        rows[3*i+2:3*i+5] = i+1\n",
    "        cols[3*i+2] = i\n",
    "        cols[3*i+3] = i+1\n",
    "        cols[3*i+4] = i+2\n",
    "    data[3*ncv-4] = coeffs.aW[-1]\n",
    "    data[3*ncv-3] = coeffs.aP[-1]\n",
    "    rows[3*ncv-4:3*ncv-2] = ncv-1\n",
    "    cols[3*ncv-4] = ncv-2\n",
    "    cols[3*ncv-3] = ncv-1\n",
    "    return csr_matrix((data, (rows, cols)))\n",
    "\n",
    "def solve(coeffs):\n",
    "    \"\"\"Function to solve the linear system and return the correction field\"\"\"\n",
    "    # Get the sparse matrix\n",
    "    A = get_sparse_matrix(coeffs)\n",
    "    # Solve the linear system\n",
    "    return spsolve(A, -coeffs.rP)"
   ]
  },
  {
   "cell_type": "markdown",
   "metadata": {},
   "source": [
    "## Solution of the Problem\n",
    "\n",
    "Following is the code that has been applied to solve this problem."
   ]
  },
  {
   "cell_type": "markdown",
   "metadata": {},
   "source": [
    "# Determination of Required Number of Iterations for Convergence"
   ]
  },
  {
   "cell_type": "markdown",
   "metadata": {},
   "source": [
    "# Convergence Criteria 1e-6"
   ]
  },
  {
   "cell_type": "code",
   "execution_count": 1370,
   "metadata": {},
   "outputs": [],
   "source": [
    "def problem1(ncv):\n",
    "    import numpy as np\n",
    "    from numpy.linalg import norm\n",
    "\n",
    "    # Set the maximum number of iterations and convergence criterion\n",
    "    maxIter = 100\n",
    "    converged = 1e-6\n",
    "\n",
    "    # Define thermophysical properties\n",
    "    k = 0.1\n",
    "\n",
    "    # Define the coefficients\n",
    "    coeffs = ScalarCoeffs(grid.ncv)\n",
    "\n",
    "    # Initial conditions\n",
    "    T0 = 300\n",
    "\n",
    "    # Initialize field variable arrays\n",
    "    T = T0*np.ones(grid.ncv+2)\n",
    "\n",
    "    # Define boundary conditions\n",
    "    west_bc = DirichletBc(T, grid, 100, BoundaryLocation.WEST)\n",
    "    east_bc = DirichletBc(T, grid, 0, BoundaryLocation.EAST)\n",
    "\n",
    "    # Apply boundary conditions\n",
    "    west_bc.apply()\n",
    "    east_bc.apply()\n",
    "\n",
    "    # Define the diffusion model\n",
    "    diffusion = DiffusionModel(grid, T, k, west_bc, east_bc)\n",
    "\n",
    "    # Iterate until the solution is converged\n",
    "    for i in range(maxIter):\n",
    "        # Zero the coefficients and add each influence\n",
    "        coeffs.zero()\n",
    "        coeffs = diffusion.add(coeffs)\n",
    "\n",
    "        # Compute residual and check for convergence \n",
    "        maxResid = norm(coeffs.rP, np.inf)\n",
    "        avgResid = np.mean(np.absolute(coeffs.rP))\n",
    "        print(\"Iteration = {}; Max. Resid. = {}; Avg. Resid. = {}\".format(i, maxResid, avgResid))\n",
    "        if maxResid < converged:\n",
    "            break\n",
    "\n",
    "        # Solve the sparse matrix system\n",
    "        dT = solve(coeffs)\n",
    "\n",
    "        # Update the solution and boundary conditions\n",
    "        T[1:-1] += dT\n",
    "        west_bc.apply()\n",
    "        east_bc.apply()\n",
    "    return T"
   ]
  },
  {
   "cell_type": "code",
   "execution_count": 1371,
   "metadata": {},
   "outputs": [
    {
     "name": "stdout",
     "output_type": "stream",
     "text": [
      "Iteration = 0; Max. Resid. = 0.09000000000000002; Avg. Resid. = 0.025000000000000005\n",
      "Iteration = 1; Max. Resid. = 1.474514954580286e-17; Avg. Resid. = 5.565571152092256e-18\n",
      "Iteration = 0; Max. Resid. = 0.14999999999999988; Avg. Resid. = 0.024999999999999988\n",
      "Iteration = 1; Max. Resid. = 2.168404344971009e-17; Avg. Resid. = 1.1449174941446926e-17\n"
     ]
    }
   ],
   "source": [
    "%matplotlib inline\n",
    "import matplotlib.pyplot as plt\n",
    "import numpy as np\n",
    "lx = 0.1\n",
    "ly = 0.005\n",
    "lz = 0.005\n",
    "xPosition=[]\n",
    "Temp=[]\n",
    "\n",
    "for i in range(2):\n",
    "    ncv= 4*i + 6\n",
    "    grid = Grid(lx, ly, lz, ncv)\n",
    "    xPosition.append(grid.xP)\n",
    "    Temp.append(problem1(ncv))"
   ]
  },
  {
   "cell_type": "markdown",
   "metadata": {},
   "source": [
    "# Convergence Criteria 1e-8"
   ]
  },
  {
   "cell_type": "code",
   "execution_count": 1372,
   "metadata": {},
   "outputs": [],
   "source": [
    "def problem1(ncv):\n",
    "    import numpy as np\n",
    "    from numpy.linalg import norm\n",
    "\n",
    "    # Set the maximum number of iterations and convergence criterion\n",
    "    maxIter = 100\n",
    "    converged = 1e-6\n",
    "\n",
    "    # Define thermophysical properties\n",
    "    k = 0.1\n",
    "\n",
    "    # Define the coefficients\n",
    "    coeffs = ScalarCoeffs(grid.ncv)\n",
    "\n",
    "    # Initial conditions\n",
    "    T0 = 300\n",
    "\n",
    "    # Initialize field variable arrays\n",
    "    T = T0*np.ones(grid.ncv+2)\n",
    "\n",
    "    # Define boundary conditions\n",
    "    west_bc = DirichletBc(T, grid, 100, BoundaryLocation.WEST)\n",
    "    east_bc = DirichletBc(T, grid, 0, BoundaryLocation.EAST)\n",
    "\n",
    "    # Apply boundary conditions\n",
    "    west_bc.apply()\n",
    "    east_bc.apply()\n",
    "    \n",
    "    # Create list to store the solutions at each iteration\n",
    "    #T_solns = []\n",
    "    #Xposition = [np.copy(grid.xP)]\n",
    "    #Tvalue = [np.copy(T)]\n",
    "\n",
    "    # Define the diffusion model\n",
    "    diffusion = DiffusionModel(grid, T, k, west_bc, east_bc)\n",
    "\n",
    "    # Iterate until the solution is converged\n",
    "    for i in range(maxIter):\n",
    "        # Zero the coefficients and add each influence\n",
    "        coeffs.zero()\n",
    "        coeffs = diffusion.add(coeffs)\n",
    "\n",
    "        # Compute residual and check for convergence \n",
    "        maxResid = norm(coeffs.rP, np.inf)\n",
    "        avgResid = np.mean(np.absolute(coeffs.rP))\n",
    "        print(\"Iteration = {}; Max. Resid. = {}; Avg. Resid. = {}\".format(i, maxResid, avgResid))\n",
    "        if maxResid < converged:\n",
    "            break\n",
    "\n",
    "        # Solve the sparse matrix system\n",
    "        dT = solve(coeffs)\n",
    "\n",
    "        # Update the solution and boundary conditions\n",
    "        T[1:-1] += dT\n",
    "        west_bc.apply()\n",
    "        east_bc.apply()\n",
    "    return T"
   ]
  },
  {
   "cell_type": "code",
   "execution_count": 1373,
   "metadata": {},
   "outputs": [
    {
     "name": "stdout",
     "output_type": "stream",
     "text": [
      "Iteration = 0; Max. Resid. = 0.09000000000000002; Avg. Resid. = 0.025000000000000005\n",
      "Iteration = 1; Max. Resid. = 1.474514954580286e-17; Avg. Resid. = 5.565571152092256e-18\n",
      "Iteration = 0; Max. Resid. = 0.14999999999999988; Avg. Resid. = 0.024999999999999988\n",
      "Iteration = 1; Max. Resid. = 2.168404344971009e-17; Avg. Resid. = 1.1449174941446926e-17\n"
     ]
    }
   ],
   "source": [
    "%matplotlib inline\n",
    "import matplotlib.pyplot as plt\n",
    "import numpy as np\n",
    "lx = 0.1\n",
    "ly = 0.005\n",
    "lz = 0.005\n",
    "xPosition=[]\n",
    "Temp=[]\n",
    "\n",
    "for i in range(2):\n",
    "    ncv= 4*i + 6\n",
    "    grid = Grid(lx, ly, lz, ncv)\n",
    "    xPosition.append(grid.xP)\n",
    "    Temp.append(problem1(ncv))"
   ]
  },
  {
   "cell_type": "markdown",
   "metadata": {},
   "source": [
    "# Discussion on Determination of Required Number of Iterations for Convergence\n",
    "Required number of iterations for convergence have been determined. To do this, two convergence criteria were taken into consideration and these are 1e-6, 1e-8. After running the code for the above-mentioned convergence criteria, it was observed that:\n",
    "\n",
    "### At convergence criteria 1e-6: \n",
    "Convergence takes place after 2 iterations (from 0 to 1). And it happened for both number of control volumes (i.e., ncv = 6 & ncv = 10)\n",
    "\n",
    "### At convergence criteria 1e-8: \n",
    "Convergence takes place after 2 iterations (from 0 to 1). And it happened for both number of control volumes (i.e., ncv = 6 & ncv = 10)\n",
    "\n",
    "### Conclusion: \n",
    "As for both consecutive convergence criteria i.e., 1e-6 and 1e-8, 2 iterations (from 0 to 1) were enough for convergence to take place for both 6 and 10 control volumes, so required number of iterations for steel is determined to be 2.\n",
    "\n",
    "### Explanation:\n",
    "One of the most vital procedures of an iterative solution’s convergence is measuring the residual. Residual straight away enumerates the error in the solution of the system of equations. In Computational Fluid Dynamics analysis, the residual quantifies the local imbalance of a conserved variable in each control volume. So, each cell in the model will have its individual residual value for each of the equations being solved. \n",
    "\n",
    "Exact zero can never be achieved in an iterative numerical solution. However, the lower the residual value is, the more numerically correct the solution.\n",
    "\n",
    "This residual value which is involved with the quantification of local imbalance of conserved cell, depends upon the source term. If the source term is either zero or a constant or very small, then the local imbalance of conserved cell is also very small hence negligible and as a result convergence takes place with very few number of iterations even 1 or 2.\n",
    "\n",
    "For this problem, the source term is zero. It is anticipated that, because of this reason, convergence took place very quickly.\n",
    "\n"
   ]
  },
  {
   "cell_type": "markdown",
   "metadata": {},
   "source": [
    "# Study of Grid Independence "
   ]
  },
  {
   "cell_type": "code",
   "execution_count": 1374,
   "metadata": {},
   "outputs": [
    {
     "name": "stdout",
     "output_type": "stream",
     "text": [
      "[array([0.        , 0.00833333, 0.025     , 0.04166667, 0.05833333,\n",
      "       0.075     , 0.09166667, 0.1       ]), array([0.   , 0.005, 0.015, 0.025, 0.035, 0.045, 0.055, 0.065, 0.075,\n",
      "       0.085, 0.095, 0.1  ])]\n",
      "[array([100.        ,  91.66666667,  75.        ,  58.33333333,\n",
      "        41.66666667,  25.        ,   8.33333333,   0.        ]), array([100.,  95.,  85.,  75.,  65.,  55.,  45.,  35.,  25.,  15.,   5.,\n",
      "         0.])]\n"
     ]
    }
   ],
   "source": [
    "import numpy as np\n",
    "print(xPosition)\n",
    "print(Temp)"
   ]
  },
  {
   "cell_type": "code",
   "execution_count": 1375,
   "metadata": {},
   "outputs": [
    {
     "data": {
      "image/png": "[encoded data removed]",
      "text/plain": [
       "<Figure size 432x288 with 1 Axes>"
      ]
     },
     "metadata": {},
     "output_type": "display_data"
    }
   ],
   "source": [
    "%matplotlib inline\n",
    "import matplotlib.pyplot as plt\n",
    "\n",
    "i = 0\n",
    "for x, T in zip(xPosition, Temp):\n",
    "    plt.plot(x, T, '*', label=str(len(xPosition[i])))\n",
    "    i=i+1\n",
    "\n",
    "plt.xlabel(\"x\")\n",
    "plt.ylabel(\"T\")\n",
    "plt.legend()\n",
    "plt.show()"
   ]
  },
  {
   "cell_type": "code",
   "execution_count": 1376,
   "metadata": {},
   "outputs": [
    {
     "data": {
      "image/png": "[encoded data removed]",
      "text/plain": [
       "<Figure size 432x288 with 1 Axes>"
      ]
     },
     "metadata": {},
     "output_type": "display_data"
    }
   ],
   "source": [
    "%matplotlib inline\n",
    "import matplotlib.pyplot as plt\n",
    "\n",
    "i = 0\n",
    "for x, T in zip(xPosition, Temp):\n",
    "    plt.plot(x, T, '-', label=str(len(xPosition[i])))\n",
    "    i=i+1\n",
    "\n",
    "plt.xlabel(\"x\")\n",
    "plt.ylabel(\"T\")\n",
    "plt.legend()\n",
    "plt.show()"
   ]
  },
  {
   "cell_type": "markdown",
   "metadata": {},
   "source": [
    "# Discussion on the Study of Grid Independence \n",
    "Even though above two graphs represent the same result, but they are presented in different ways. From the first graph, it is realizable that it represents the data for both 6 and 10 control volumes. The second graph also represents data for both 6 and 10 control volumes but as they have overlapped each other so it is difficult to differentiate from each other. From this, it can be concluded that 6 control volumes are enough to obtain a grid independent solution"
   ]
  },
  {
   "cell_type": "markdown",
   "metadata": {},
   "source": [
    "# Discussion on the Results\n",
    "\n",
    "# Analytical Solution\n",
    "\n",
    "## Equations Used\n",
    "\n",
    "In order to better explain the results, analytical solution is presented below:\n",
    "\n",
    "This problem conduction is taking place only as a means of heat transfer. Theoretically, it is given by the following equation\n",
    " \n",
    "$$\\frac{d}{dx}\\left(\\ K\\ \\frac{dT}{dx}\\ \\right)=0$$\n",
    "\n",
    ", by integrating twice,\n",
    "\n",
    "$$T=c_1\\ x+\\ c_2$$\n",
    "\n",
    "  By solving the equation by the given boundary conditions to get the integration constants: Boundary conditions: \n",
    "  \n",
    "$$T=100 at x=0$$ \n",
    "$$T=0 at x=L$$ \n",
    "\n",
    "This yields to integration constants of: C2=100, C1=−100xL.\n",
    "\n",
    "The final analytical solution of the temperature field in the domain is:\n",
    "\n",
    "$$T=−100 (x / L) +100$$\n",
    "\n",
    "The analytical solution equation clearly shows a linear behaviour. It confirms the accuracy of the computational result presented above. \n",
    "\n",
    "Reference: Bergman, T. L., & Incropera, F. P. (2011). Fundamentals of heat and mass transfer. John Wiley & Sons.  \n"
   ]
  },
  {
   "cell_type": "markdown",
   "metadata": {},
   "source": [
    "## List of Values Considered"
   ]
  },
  {
   "cell_type": "markdown",
   "metadata": {},
   "source": [
    "Variables along with their values are given below\n",
    "\n",
    "\n",
    "Variable          | Valiue\n",
    ":----------:      | :------------------------: \n",
    "h                 | 0 [W/m$^2\\cdot$K]\n",
    "k                 | 60 [W/m$\\cdot$K]\n",
    "L                 | 0.1 [m]"
   ]
  },
  {
   "cell_type": "markdown",
   "metadata": {},
   "source": [
    "## Calculation of Analytical Temperature at various x position"
   ]
  },
  {
   "cell_type": "code",
   "execution_count": 1377,
   "metadata": {},
   "outputs": [
    {
     "name": "stdout",
     "output_type": "stream",
     "text": [
      "Analytical values of T are given below\n",
      "---------------------------------------\n",
      "T at x = 0 is           100.0\n",
      "T at x = 0.00833333 is  91.66667\n",
      "T at x = 0.025 is       75.0\n",
      "T at x = 0.04166667 is  58.33333\n",
      "T at x = 0.05833333 is  41.66667\n",
      "T at x = 0.075 is       25.000000000000014\n",
      "T at x = 0.09166667 is  8.33332999999999\n",
      "T at x = 0.1 is         0.0\n",
      "---------------------------------------\n"
     ]
    }
   ],
   "source": [
    "x = [0.  , 0.00833333, 0.025     , 0.04166667, 0.05833333,       0.075     , 0.09166667, 0.1       ]\n",
    "L = 0.1 \n",
    "\n",
    "Tatx0 = 100*-1 * (0 / L) +100 \n",
    "Tatx1 =100*-1 *(0.00833333 / L) +100\n",
    "Tatx2 =100*-1 *(0.025 / L) +100 \n",
    "Tatx3 =100*-1 *(0.04166667 / L) +100 \n",
    "Tatx4 =100*-1 *(0.05833333/ L) +100 \n",
    "Tatx5 =100*-1 *(0.075/ L) +100 \n",
    "Tatx6 =100*-1 *(0.09166667/ L) +100 \n",
    "Tatx7 =100*-1 *(0.1 / L) +100 \n",
    "print ('Analytical values of T are given below')\n",
    "print ('---------------------------------------')\n",
    "print ('T at x = 0 is          ',(Tatx0))\n",
    "print ('T at x = 0.00833333 is ',(Tatx1))\n",
    "print ('T at x = 0.025 is      ',(Tatx2))\n",
    "print ('T at x = 0.04166667 is ',(Tatx3))\n",
    "print ('T at x = 0.05833333 is ',(Tatx4))\n",
    "print ('T at x = 0.075 is      ',(Tatx5))\n",
    "print ('T at x = 0.09166667 is ',(Tatx6))\n",
    "print ('T at x = 0.1 is        ',(Tatx7))\n",
    "print ('---------------------------------------')\n"
   ]
  },
  {
   "cell_type": "markdown",
   "metadata": {},
   "source": [
    "## Comparison between Analytical & Computational Results"
   ]
  },
  {
   "cell_type": "code",
   "execution_count": 1378,
   "metadata": {},
   "outputs": [
    {
     "data": {
      "image/png": "[encoded data removed]",
      "text/plain": [
       "<Figure size 432x288 with 1 Axes>"
      ]
     },
     "metadata": {},
     "output_type": "display_data"
    }
   ],
   "source": [
    "%matplotlib inline\n",
    "import matplotlib.pyplot as plt\n",
    "x =[0.        , 0.00833333, 0.025     , 0.04166667, 0.05833333,       0.075     , 0.09166667, 0.1]\n",
    "Tcomputational = [100.        ,  91.66666667,  75.        ,  58.33333333,        41.66666667,  25.        ,   8.33333333,   0.]        \n",
    "Tanalytical    = [100.0,91.66667,75.0,58.33333,41.66667,25.000000000000014,8.33332999999999,0.0]\n",
    "\n",
    "plt.plot(x, Tcomputational , '*', label='Tcomputational')\n",
    "plt.plot(x, Tanalytical,'-', label='Tanalytical')\n",
    "plt.xlabel(\"x\")\n",
    "plt.ylabel(\"T\")\n",
    "plt.legend()\n",
    "plt.show()"
   ]
  },
  {
   "cell_type": "markdown",
   "metadata": {},
   "source": [
    "The comparative graph shows that, the compuatational and analytical results are exactly matching with each other. \n",
    "\n",
    "So,  from the perspective of accuracy of results, this confirms the accuracy of the computational result.\n",
    "\n",
    "Again from the perspective of physics, it can be easily concluded that the phenomena which is described in the problem is completely inline with the underlying physics of it.\n",
    "\n",
    "In the light of theory, it is known that, the term one dimensional means that it is enough to consider one coordinate to describe the spatial variation of the dependent variable. Thus, in case of one dimensional system, temperature variation is noticed in one direction only and heat transfer takes place solely in that direction. Such conditions are called as steady state conditions. Both the analytical and computational result are inline with all the facts described above."
   ]
  },
  {
   "cell_type": "code",
   "execution_count": null,
   "metadata": {},
   "outputs": [],
   "source": []
  }
 ],
 "metadata": {
  "kernelspec": {
   "display_name": "Python 3",
   "language": "python",
   "name": "python3"
  },
  "language_info": {
   "codemirror_mode": {
    "name": "ipython",
    "version": 3
   },
   "file_extension": ".py",
   "mimetype": "text/x-python",
   "name": "python",
   "nbconvert_exporter": "python",
   "pygments_lexer": "ipython3",
   "version": "3.6.5"
  }
 },
 "nbformat": 4,
 "nbformat_minor": 2
}
