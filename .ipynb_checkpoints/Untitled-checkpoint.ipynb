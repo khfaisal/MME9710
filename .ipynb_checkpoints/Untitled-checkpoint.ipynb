{
 "cells": [
  {
   "cell_type": "code",
   "execution_count": null,
   "metadata": {},
   "outputs": [],
   "source": [
    "class FirstOrderTransientModel:\n",
    "    \"\"\"Class defining a first order implicit transient model\"\"\"\n",
    "\n",
    "    def __init__(self, grid, T,Told,Toldold, rho, cp, dt):\n",
    "        \"\"\"Constructor\"\"\"\n",
    "        self._grid = grid\n",
    "        self._T = T\n",
    "        self._Told = Told\n",
    "        self._Toldold = Toldold\n",
    "        self._rho = rho\n",
    "        self._cp = cp\n",
    "        self._dt = dt\n",
    "\n",
    "    def add(self, coeffs):\n",
    "        \"\"\"Function to add transient term to coefficient arrays\"\"\"\n",
    "\n",
    "        # Calculate the transient term\n",
    "        transient = self._rho*self._cp*self._vp*(1.5*self._T[1:-1]-2*self._Told[1:-1]+0.5*Toldold[1:-1])*(1/dt)        \n",
    "        # Calculate the linearization coefficient\n",
    "        coefftransient = self._rho*self._cp*self._vp*1.5*(1/dt)  \n",
    "        # Add to coefficient arrays\n",
    "        coeffs.accumulate_aP(coefftransient)\n",
    "        coeffs.accumulate_rP(transient)\n",
    "        return coeffs"
   ]
  }
 ],
 "metadata": {
  "kernelspec": {
   "display_name": "Python 3",
   "language": "python",
   "name": "python3"
  },
  "language_info": {
   "codemirror_mode": {
    "name": "ipython",
    "version": 3
   },
   "file_extension": ".py",
   "mimetype": "text/x-python",
   "name": "python",
   "nbconvert_exporter": "python",
   "pygments_lexer": "ipython3",
   "version": "3.6.5"
  }
 },
 "nbformat": 4,
 "nbformat_minor": 2
}
